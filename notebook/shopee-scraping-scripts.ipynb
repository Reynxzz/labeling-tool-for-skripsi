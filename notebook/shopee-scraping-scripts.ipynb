{
 "cells": [
  {
   "cell_type": "code",
   "execution_count": 1,
   "id": "81383eb5-5532-4846-8c7f-57c895bbc625",
   "metadata": {
    "tags": []
   },
   "outputs": [],
   "source": [
    "import undetected_chromedriver as uc\n",
    "from selenium import webdriver\n",
    "from selenium.webdriver.common.by import By\n",
    "from selenium.webdriver.support.wait import WebDriverWait\n",
    "from selenium.webdriver.support import expected_conditions as EC\n",
    "import time\n",
    "from bs4 import BeautifulSoup\n",
    "from selenium.common.exceptions import TimeoutException\n",
    "from selenium.webdriver.support import expected_conditions as EC\n",
    "from selenium.webdriver.common.by import By\n",
    "import pandas as pd\n",
    "import pickle\n",
    "import os\n",
    "import re\n",
    "import json\n",
    "import requests\n",
    "import random\n",
    "from tqdm import tqdm\n",
    "from urllib.parse import quote"
   ]
  },
  {
   "cell_type": "code",
   "execution_count": 2,
   "id": "54092075-377f-407a-b075-e6bb3e3b599e",
   "metadata": {
    "tags": []
   },
   "outputs": [],
   "source": [
    "def delay():\n",
    "    base_delay = random.uniform(3, 7)\n",
    "    additional_delay = random.uniform(-1, 1)\n",
    "    total_delay = max(2, base_delay + additional_delay)\n",
    "    time.sleep(total_delay)"
   ]
  },
  {
   "cell_type": "code",
   "execution_count": 3,
   "id": "040bd262-6bd2-46fe-ae81-054c61b15351",
   "metadata": {
    "tags": []
   },
   "outputs": [],
   "source": [
    "def delay_fast():\n",
    "    base_delay = random.uniform(0.3, 2)\n",
    "    additional_delay = random.uniform(-1, 1)\n",
    "    total_delay = max(0.5, base_delay + additional_delay)\n",
    "    time.sleep(total_delay)"
   ]
  },
  {
   "cell_type": "code",
   "execution_count": 66,
   "id": "87fb7fa6-35e0-44d8-8460-5d081b1ee1ec",
   "metadata": {
    "tags": []
   },
   "outputs": [],
   "source": [
    "def login_and_save_cookies(driver, email, password):\n",
    "    wait = WebDriverWait(driver, 30)\n",
    "    delay_fast()\n",
    "    wait.until(EC.element_to_be_clickable((By.NAME, 'loginKey'))).send_keys(email)\n",
    "    delay_fast()\n",
    "    wait.until(EC.element_to_be_clickable((By.NAME, 'password'))).send_keys(password)\n",
    "    delay_fast()\n",
    "    \n",
    "    # click on LOG IN button\n",
    "    wait.until(EC.element_to_be_clickable((By.XPATH, \"//button[text()='Log in']\"))).click()\n",
    "    \n",
    "    # save cookies\n",
    "    cookies = driver.get_cookies()\n",
    "    pickle.dump(cookies, open(\"./cookies/shopee-cookies.pkl\", \"wb\"))\n",
    "    cookies = pickle.load(open(\"./cookies/shopee-cookies.pkl\", \"rb\"))\n",
    "    for cookie in cookies:\n",
    "        try:\n",
    "            driver.add_cookie(cookie)\n",
    "        except Exception as e:\n",
    "            print(e)\n",
    "    \n",
    "    print(\"Login success, Cookies are saved and added to driver\")"
   ]
  },
  {
   "cell_type": "code",
   "execution_count": 67,
   "id": "4e4ca445-cbf0-47e7-a706-998812d0f5c1",
   "metadata": {
    "tags": []
   },
   "outputs": [],
   "source": [
    "def first_login_and_save_cookies(driver, email, password):\n",
    "    url_login = \"https://shopee.co.id/buyer/login?next=https%3A%2F%2Fshopee.co.id%2F\"\n",
    "    driver.get(url_login)\n",
    "    \n",
    "    wait = WebDriverWait(driver, 30)\n",
    "    delay_fast()\n",
    "    wait.until(EC.element_to_be_clickable((By.NAME, 'loginKey'))).send_keys(email)\n",
    "    delay_fast()\n",
    "    wait.until(EC.element_to_be_clickable((By.NAME, 'password'))).send_keys(password)\n",
    "    delay_fast()\n",
    "    \n",
    "    # click on LOG IN button\n",
    "    wait.until(EC.element_to_be_clickable((By.XPATH, \"//button[text()='Log in']\"))).click()\n",
    "    \n",
    "    # save cookies\n",
    "    cookies = driver.get_cookies()\n",
    "    pickle.dump(cookies, open(\"./cookies/shopee-cookies.pkl\", \"wb\"))\n",
    "    cookies = pickle.load(open(\"./cookies/shopee-cookies.pkl\", \"rb\"))\n",
    "    for cookie in cookies:\n",
    "        try:\n",
    "            driver.add_cookie(cookie)\n",
    "        except Exception as e:\n",
    "            print(e)\n",
    "    \n",
    "    print(\"Login success, Cookies are saved and added to driver\")"
   ]
  },
  {
   "cell_type": "code",
   "execution_count": 16,
   "id": "57333169-e822-479a-bf25-ee5ddc827a1f",
   "metadata": {
    "tags": []
   },
   "outputs": [],
   "source": [
    "def scrolling(total_steps):\n",
    "    for i in tqdm(range(1, total_steps + 1), desc=\"Scrolling\"):\n",
    "        step = random.randint(600, 900)\n",
    "        end = step * i\n",
    "        script = \"window.scrollTo(0,\" + str(end) + \")\"\n",
    "        delay_fast()\n",
    "        driver.execute_script(script)\n",
    "        \n",
    "        delay_fast()\n",
    "\n",
    "        driver.execute_script(\"window.scrollBy(0, 1);\")\n",
    "        driver.execute_script(\"window.scrollBy(0, -1);\")\n",
    "\n",
    "        # Randomly pause the scrolling at different intervals\n",
    "        if random.random() < 0.6:  # 40% chance to pause scrolling\n",
    "            pause_duration = random.uniform(0.5, 4)\n",
    "            time.sleep(pause_duration)\n",
    "            \n",
    "    delay_fast()"
   ]
  },
  {
   "cell_type": "code",
   "execution_count": 32,
   "id": "3978bd2f-5863-449e-bea0-eec10fd41d53",
   "metadata": {},
   "outputs": [],
   "source": [
    "def keyword_search_results(driver, base_url, keyword, page, email, password):\n",
    "\n",
    "    keyword_quote = quote(keyword)\n",
    "    keyword_url = f\"{base_url}/search?keyword=\" + keyword_quote + f\"&page={page}\"\n",
    "    driver.get(keyword_url)\n",
    "    print(f\"Searching {keyword}...\")\n",
    "    time.sleep(10)\n",
    "          \n",
    "    content_raw = driver.page_source\n",
    "    \n",
    "    if \"<title>Login sekarang untuk mulai berbelanja! | Shopee Indonesia</title>\" in content_raw:\n",
    "        print(\"Login required\")\n",
    "        login_and_save_cookies(driver, email, password)\n",
    "        delay()\n",
    "\n",
    "        driver.get(keyword_url)\n",
    "        delay()\n",
    "        \n",
    "        scrolling(6)\n",
    "        delay()\n",
    "        content_raw = driver.page_source\n",
    "        delay()\n",
    "    else:\n",
    "        delay()\n",
    "        scrolling(6)\n",
    "        delay()\n",
    "        content_raw = driver.page_source\n",
    "\n",
    "    # driver.quit()\n",
    "\n",
    "    content = BeautifulSoup(content_raw,'html.parser')\n",
    "    # print(data.encode(\"utf-8\"))\n",
    "\n",
    "    titles = []\n",
    "    prices = []\n",
    "    links = []\n",
    "    solds = []\n",
    "    locations = []\n",
    "    images = []\n",
    "    \n",
    "    for area in tqdm(content.find_all('li', class_=\"col-xs-2-4 shopee-search-item-result__item\"), desc=\"Processing Items\"):\n",
    "        try:\n",
    "            title = area.find('div',class_=\"xA2DZd tYvyWM wupGTj\").get_text()\n",
    "            img = area.find('img')['src']\n",
    "            price = area.find('span',class_=\"_7s1MaR\").get_text()\n",
    "            link = base_url + area.find('a')['href']\n",
    "            sold = area.find('div',class_=\"L68Ib9 s3wNiK\")\n",
    "            if sold != None:\n",
    "                sold = sold.get_text()\n",
    "            location = area.find('div',class_=\"wZEyNc\").get_text()\n",
    "            \n",
    "        except:\n",
    "            pass\n",
    "            # title= ''\n",
    "            # price = ''\n",
    "            # link = ''\n",
    "            # sold = ''\n",
    "            # location = ''\n",
    "        \n",
    "        titles.append(title)\n",
    "        prices.append(price)\n",
    "        links.append(link)\n",
    "        solds.append(sold)\n",
    "        locations.append(location)\n",
    "        images.append(img)\n",
    "\n",
    "    return pd.DataFrame({'title':titles, 'price':prices, 'sold':solds, 'location': locations, 'link':links, 'image':images})"
   ]
  },
  {
   "cell_type": "code",
   "execution_count": 8,
   "id": "9f0ecb72-ee2e-48f6-a4c1-3138c8d48179",
   "metadata": {
    "tags": []
   },
   "outputs": [],
   "source": [
    "def search_detail_per_product(driver, base_url, links, email, password):\n",
    "    \n",
    "    descriptions = []\n",
    "    seller_names = []\n",
    "    seller_links = []\n",
    "    reviews = []\n",
    "    \n",
    "    for url in links:\n",
    "        try:\n",
    "            driver.get(url)\n",
    "            time.sleep(10)\n",
    "            content_raw = driver.page_source\n",
    "            \n",
    "            if \"<title>Login sekarang untuk mulai berbelanja! | Shopee Indonesia</title>\" in content_raw:\n",
    "                print(\"Login required\")\n",
    "                login_and_save_cookies(driver, email, password)\n",
    "                delay_fast()\n",
    "                driver.get(url)\n",
    "                scrolling(1)\n",
    "                delay_fast()\n",
    "                content_raw = driver.page_source\n",
    "                content = BeautifulSoup(content_raw, 'html.parser')\n",
    "            else:\n",
    "                delay_fast()\n",
    "                driver.get(url)\n",
    "                scrolling(1)\n",
    "                delay_fast()\n",
    "                content_raw = driver.page_source\n",
    "                content = BeautifulSoup(content_raw, 'html.parser')\n",
    "                \n",
    "            description = content.find('p', class_='QN2lPu').text\n",
    "            seller_name = content.find('div', class_='fV3TIn').text\n",
    "            seller_link = base_url + content.find('a', class_=\"btn btn-light btn--s btn--inline btn-light--link Z6yFUs\")['href']\n",
    "            r = re.search(r'i\\.(\\d+)\\.(\\d+)', url)\n",
    "            shop_id, item_id = r[1], r[2]\n",
    "            \n",
    "            params = {\n",
    "                \"filter\": \"0\",\n",
    "                \"flag\": \"1\",\n",
    "                \"itemid\": f\"{item_id}\",\n",
    "                \"limit\": \"5\",\n",
    "                \"offset\": \"0\",\n",
    "                \"shopid\": f\"{shop_id}\",\n",
    "                \"type\": \"0\"\n",
    "            }\n",
    "            \n",
    "            review_product = []\n",
    "            ratings_url = 'https://shopee.co.id/api/v2/item/get_ratings'\n",
    "            r = requests.get(ratings_url, params=params).json()\n",
    "            for item in r['data']['ratings']:\n",
    "                review_product.append(item['comment'])\n",
    "            all_reviews = ' '.join(review_product)\n",
    "            \n",
    "        except Exception as e:\n",
    "            print(f\"Error processing URL {url}: {e}\")\n",
    "            description = ''\n",
    "            seller_name = ''\n",
    "            seller_link = ''\n",
    "            all_reviews = ''\n",
    "        \n",
    "        descriptions.append(description)\n",
    "        seller_names.append(seller_name)\n",
    "        seller_links.append(seller_link)\n",
    "        reviews.append(all_reviews)\n",
    "        delay_fast()\n",
    "            \n",
    "    return pd.DataFrame({'seller':seller_names, 'seller_link':seller_links, 'description':descriptions, 'review':reviews, 'link': links})"
   ]
  },
  {
   "cell_type": "markdown",
   "id": "59cdae96-36b4-485f-8881-e73f9c47f4ef",
   "metadata": {},
   "source": [
    "### Main"
   ]
  },
  {
   "cell_type": "code",
   "execution_count": 13,
   "id": "72a7cb46-de60-4064-8097-0c9d8eac6ee4",
   "metadata": {
    "tags": []
   },
   "outputs": [],
   "source": [
    "keyword_makanan_ilegal = [\n",
    "    \"makanan import luar negri\", #Pangan Olahan tanpa izin edar\n",
    "    \"snack kiloan branded\", #Pangan Olahan tanpa izin edar \n",
    "    \"makanan expired\", #melewati tanggal kedaluwarsa\n",
    "    \"susu formula penambah berat badan anak\", #PKMK bayi/anak\n",
    "    \"susu formula bayi prematur\", #PKMK bayi/anak\n",
    "    \"pangan olahan medis\", #PKMK\n",
    "    \"bir\", #Minuman beralkohol\n",
    "    \"whisky minuman alkohol\", #Minuman beralkohol\n",
    "    \"tuak arak\", #Minuman beralkohol\n",
    "    \"makanan sehat obat\", #iklan/klaim menyehatkan\n",
    "    \"minuman pembesar\", #iklan/klaim\n",
    "    \"minuman penambah stamina\" #penambah stamina\n",
    "]"
   ]
  },
  {
   "cell_type": "code",
   "execution_count": 14,
   "id": "aeeccf93-231b-419c-bbd3-bcb2ad668346",
   "metadata": {
    "tags": []
   },
   "outputs": [],
   "source": [
    "email = 'luthfirey25@gmail.com'\n",
    "password = 'zcxfzxxzShopee#'\n",
    "base_url = \"https://shopee.co.id\""
   ]
  },
  {
   "cell_type": "code",
   "execution_count": 28,
   "id": "fe657188-733f-4040-8875-02c1c15ca9b0",
   "metadata": {
    "tags": []
   },
   "outputs": [],
   "source": [
    "keyword = keyword_makanan_ilegal[0]"
   ]
  },
  {
   "cell_type": "markdown",
   "id": "75000f94-5ce2-4d00-88ea-3d073eb88e54",
   "metadata": {
    "tags": []
   },
   "source": [
    "### All Products"
   ]
  },
  {
   "cell_type": "code",
   "execution_count": 31,
   "id": "9cc0426e-ed95-4532-9a78-25846ffb1936",
   "metadata": {
    "tags": []
   },
   "outputs": [
    {
     "data": {
      "text/plain": [
       "(<undetected_chromedriver.Chrome (session=\"3847ba903b167acebbf9904666aaa950\")>,\n",
       " 'https://shopee.co.id',\n",
       " 'makanan import luar negri',\n",
       " 0,\n",
       " 'luthfirey25@gmail.com',\n",
       " 'zcxfzxxzShopee#')"
      ]
     },
     "execution_count": 31,
     "metadata": {},
     "output_type": "execute_result"
    }
   ],
   "source": [
    "driver, base_url, keyword, page, email, password"
   ]
  },
  {
   "cell_type": "code",
   "execution_count": 30,
   "id": "a1314b69-a4cb-4079-9631-7dc3671e1b5a",
   "metadata": {
    "tags": []
   },
   "outputs": [],
   "source": [
    "page = 0"
   ]
  },
  {
   "cell_type": "code",
   "execution_count": 35,
   "id": "480555d2-7690-42fe-a4c8-fe86e81fb01d",
   "metadata": {
    "tags": []
   },
   "outputs": [
    {
     "name": "stdout",
     "output_type": "stream",
     "text": [
      "Login success, Cookies are saved and added to driver\n",
      "Searching makanan import luar negri...\n"
     ]
    },
    {
     "name": "stderr",
     "output_type": "stream",
     "text": [
      "Scrolling: 100%|██████████| 6/6 [00:16<00:00,  2.77s/it]\n",
      "Processing Items: 100%|██████████| 60/60 [00:00<00:00, 4666.82it/s]\n"
     ]
    }
   ],
   "source": [
    "if __name__ == '__main__':\n",
    "    options = webdriver.ChromeOptions()\n",
    "    options.add_argument('proxy-server=71.86.129.131:8080')\n",
    "    driver = uc.Chrome(\n",
    "        options=options,\n",
    "    )\n",
    "    \n",
    "    first_login_and_save_cookies(driver, email, password)\n",
    "        \n",
    "    df = keyword_search_results(driver, base_url, keyword, page, email, password)\n",
    "    driver.quit()"
   ]
  },
  {
   "cell_type": "code",
   "execution_count": 39,
   "id": "9add516e-f365-480e-9d5f-c0bde13ca292",
   "metadata": {
    "tags": []
   },
   "outputs": [
    {
     "data": {
      "text/plain": [
       "'https://shopee.co.id/MAKANAN-SYLLE.JAJAN-•-IMPORT-02-i.131811769.23351565346?sp_atk=2d315d4d-2b12-4324-95d7-56cc0474c1ac&xptdk=2d315d4d-2b12-4324-95d7-56cc0474c1ac'"
      ]
     },
     "execution_count": 39,
     "metadata": {},
     "output_type": "execute_result"
    }
   ],
   "source": [
    "df['link'][0]"
   ]
  },
  {
   "cell_type": "code",
   "execution_count": 38,
   "id": "d23b2ed6-5322-4586-b4a9-9532129b41ce",
   "metadata": {
    "tags": []
   },
   "outputs": [
    {
     "data": {
      "text/plain": [
       "'https://down-id.img.susercontent.com/file/id-11134207-7qul1-lkjcn1m7t2fo97_tn'"
      ]
     },
     "execution_count": 38,
     "metadata": {},
     "output_type": "execute_result"
    }
   ],
   "source": [
    "df['image'][0]"
   ]
  },
  {
   "cell_type": "code",
   "execution_count": 19,
   "id": "d43f6aaa-a895-4e7c-a16a-b74d1bdacd12",
   "metadata": {
    "tags": []
   },
   "outputs": [],
   "source": [
    "proxy_server = ['71.86.129.131:8080', '54.215.192.66:8080', '20.206.106.192:80', '162.223.94.164:80']"
   ]
  },
  {
   "cell_type": "code",
   "execution_count": 21,
   "id": "17304e99-807d-43b9-974f-c0a13f8bb8ee",
   "metadata": {
    "tags": []
   },
   "outputs": [
    {
     "name": "stdout",
     "output_type": "stream",
     "text": [
      "Login success, Cookies are saved and added to driver\n",
      "Searching makanan import luar negri...\n"
     ]
    },
    {
     "name": "stderr",
     "output_type": "stream",
     "text": [
      "Scrolling: 100%|██████████| 6/6 [00:23<00:00,  3.96s/it]\n",
      "Processing Items: 100%|██████████| 60/60 [00:00<00:00, 5047.09it/s]\n"
     ]
    },
    {
     "name": "stdout",
     "output_type": "stream",
     "text": [
      "Searching makanan import luar negri...\n"
     ]
    },
    {
     "name": "stderr",
     "output_type": "stream",
     "text": [
      "Scrolling: 100%|██████████| 6/6 [00:25<00:00,  4.26s/it]\n",
      "Processing Items: 100%|██████████| 60/60 [00:00<00:00, 5306.45it/s]\n"
     ]
    },
    {
     "name": "stdout",
     "output_type": "stream",
     "text": [
      "Searching makanan import luar negri...\n"
     ]
    },
    {
     "name": "stderr",
     "output_type": "stream",
     "text": [
      "Scrolling: 100%|██████████| 6/6 [00:20<00:00,  3.40s/it]\n",
      "Processing Items: 100%|██████████| 60/60 [00:00<00:00, 7902.85it/s]\n"
     ]
    },
    {
     "name": "stdout",
     "output_type": "stream",
     "text": [
      "Searching makanan import luar negri...\n"
     ]
    },
    {
     "name": "stderr",
     "output_type": "stream",
     "text": [
      "Scrolling: 100%|██████████| 6/6 [00:26<00:00,  4.50s/it]\n",
      "Processing Items: 100%|██████████| 60/60 [00:00<00:00, 5084.72it/s]\n"
     ]
    },
    {
     "name": "stdout",
     "output_type": "stream",
     "text": [
      "Searching makanan import luar negri...\n"
     ]
    },
    {
     "name": "stderr",
     "output_type": "stream",
     "text": [
      "Scrolling: 100%|██████████| 6/6 [00:27<00:00,  4.59s/it]\n",
      "Processing Items: 100%|██████████| 60/60 [00:00<00:00, 4963.97it/s]\n"
     ]
    },
    {
     "name": "stdout",
     "output_type": "stream",
     "text": [
      "Searching snack kiloan branded...\n"
     ]
    },
    {
     "name": "stderr",
     "output_type": "stream",
     "text": [
      "Scrolling: 100%|██████████| 6/6 [00:25<00:00,  4.19s/it]\n",
      "Processing Items: 100%|██████████| 60/60 [00:00<00:00, 4959.47it/s]\n"
     ]
    },
    {
     "name": "stdout",
     "output_type": "stream",
     "text": [
      "Searching snack kiloan branded...\n"
     ]
    },
    {
     "name": "stderr",
     "output_type": "stream",
     "text": [
      "Scrolling: 100%|██████████| 6/6 [00:24<00:00,  4.13s/it]\n",
      "Processing Items: 100%|██████████| 60/60 [00:00<00:00, 4972.40it/s]\n"
     ]
    },
    {
     "name": "stdout",
     "output_type": "stream",
     "text": [
      "Searching snack kiloan branded...\n"
     ]
    },
    {
     "name": "stderr",
     "output_type": "stream",
     "text": [
      "Scrolling: 100%|██████████| 6/6 [00:19<00:00,  3.23s/it]\n",
      "Processing Items: 100%|██████████| 60/60 [00:00<00:00, 4889.51it/s]\n"
     ]
    },
    {
     "name": "stdout",
     "output_type": "stream",
     "text": [
      "Searching snack kiloan branded...\n"
     ]
    },
    {
     "name": "stderr",
     "output_type": "stream",
     "text": [
      "Scrolling: 100%|██████████| 6/6 [00:20<00:00,  3.43s/it]\n",
      "Processing Items: 100%|██████████| 60/60 [00:00<00:00, 4922.41it/s]\n"
     ]
    },
    {
     "name": "stdout",
     "output_type": "stream",
     "text": [
      "Searching snack kiloan branded...\n"
     ]
    },
    {
     "name": "stderr",
     "output_type": "stream",
     "text": [
      "Scrolling: 100%|██████████| 6/6 [00:22<00:00,  3.71s/it]\n",
      "Processing Items: 100%|██████████| 60/60 [00:00<00:00, 4885.52it/s]\n"
     ]
    },
    {
     "name": "stdout",
     "output_type": "stream",
     "text": [
      "Searching makanan expired...\n"
     ]
    },
    {
     "name": "stderr",
     "output_type": "stream",
     "text": [
      "Scrolling: 100%|██████████| 6/6 [00:28<00:00,  4.69s/it]\n",
      "Processing Items: 100%|██████████| 60/60 [00:00<00:00, 5194.40it/s]\n"
     ]
    },
    {
     "name": "stdout",
     "output_type": "stream",
     "text": [
      "Searching makanan expired...\n"
     ]
    },
    {
     "name": "stderr",
     "output_type": "stream",
     "text": [
      "Scrolling: 100%|██████████| 6/6 [00:26<00:00,  4.39s/it]\n",
      "Processing Items: 100%|██████████| 60/60 [00:00<00:00, 4993.32it/s]\n"
     ]
    },
    {
     "name": "stdout",
     "output_type": "stream",
     "text": [
      "Searching makanan expired...\n"
     ]
    },
    {
     "name": "stderr",
     "output_type": "stream",
     "text": [
      "Scrolling: 100%|██████████| 6/6 [00:24<00:00,  4.12s/it]\n",
      "Processing Items: 100%|██████████| 60/60 [00:00<00:00, 5062.83it/s]\n"
     ]
    },
    {
     "name": "stdout",
     "output_type": "stream",
     "text": [
      "Searching makanan expired...\n"
     ]
    },
    {
     "name": "stderr",
     "output_type": "stream",
     "text": [
      "Scrolling: 100%|██████████| 6/6 [00:19<00:00,  3.22s/it]\n",
      "Processing Items: 100%|██████████| 60/60 [00:00<00:00, 5062.43it/s]\n"
     ]
    },
    {
     "name": "stdout",
     "output_type": "stream",
     "text": [
      "Searching makanan expired...\n"
     ]
    },
    {
     "name": "stderr",
     "output_type": "stream",
     "text": [
      "Scrolling: 100%|██████████| 6/6 [00:26<00:00,  4.35s/it]\n",
      "Processing Items: 100%|██████████| 60/60 [00:00<00:00, 5057.34it/s]\n"
     ]
    },
    {
     "name": "stdout",
     "output_type": "stream",
     "text": [
      "Searching susu formula penambah berat badan anak...\n"
     ]
    },
    {
     "name": "stderr",
     "output_type": "stream",
     "text": [
      "Scrolling: 100%|██████████| 6/6 [00:21<00:00,  3.50s/it]\n",
      "Processing Items: 100%|██████████| 60/60 [00:00<00:00, 5057.44it/s]\n"
     ]
    },
    {
     "name": "stdout",
     "output_type": "stream",
     "text": [
      "Searching susu formula penambah berat badan anak...\n"
     ]
    },
    {
     "name": "stderr",
     "output_type": "stream",
     "text": [
      "Scrolling: 100%|██████████| 6/6 [00:26<00:00,  4.48s/it]\n",
      "Processing Items: 100%|██████████| 60/60 [00:00<00:00, 5435.85it/s]\n"
     ]
    },
    {
     "name": "stdout",
     "output_type": "stream",
     "text": [
      "Searching susu formula penambah berat badan anak...\n"
     ]
    },
    {
     "name": "stderr",
     "output_type": "stream",
     "text": [
      "Scrolling: 100%|██████████| 6/6 [00:20<00:00,  3.37s/it]\n",
      "Processing Items: 100%|██████████| 60/60 [00:00<00:00, 5282.17it/s]\n"
     ]
    },
    {
     "name": "stdout",
     "output_type": "stream",
     "text": [
      "Searching susu formula penambah berat badan anak...\n"
     ]
    },
    {
     "name": "stderr",
     "output_type": "stream",
     "text": [
      "Scrolling: 100%|██████████| 6/6 [00:18<00:00,  3.07s/it]\n",
      "Processing Items: 100%|██████████| 60/60 [00:00<00:00, 4493.01it/s]\n"
     ]
    },
    {
     "name": "stdout",
     "output_type": "stream",
     "text": [
      "Searching susu formula penambah berat badan anak...\n"
     ]
    },
    {
     "name": "stderr",
     "output_type": "stream",
     "text": [
      "Scrolling: 100%|██████████| 6/6 [00:21<00:00,  3.59s/it]\n",
      "Processing Items: 100%|██████████| 60/60 [00:00<00:00, 5180.82it/s]\n"
     ]
    },
    {
     "name": "stdout",
     "output_type": "stream",
     "text": [
      "Searching susu formula bayi prematur...\n"
     ]
    },
    {
     "name": "stderr",
     "output_type": "stream",
     "text": [
      "Scrolling: 100%|██████████| 6/6 [00:20<00:00,  3.36s/it]\n",
      "Processing Items: 100%|██████████| 60/60 [00:00<00:00, 5220.15it/s]\n"
     ]
    },
    {
     "name": "stdout",
     "output_type": "stream",
     "text": [
      "Searching susu formula bayi prematur...\n"
     ]
    },
    {
     "name": "stderr",
     "output_type": "stream",
     "text": [
      "Scrolling: 100%|██████████| 6/6 [00:22<00:00,  3.78s/it]\n",
      "Processing Items: 100%|██████████| 60/60 [00:00<00:00, 5560.16it/s]\n"
     ]
    },
    {
     "name": "stdout",
     "output_type": "stream",
     "text": [
      "Searching susu formula bayi prematur...\n"
     ]
    },
    {
     "name": "stderr",
     "output_type": "stream",
     "text": [
      "Scrolling: 100%|██████████| 6/6 [00:32<00:00,  5.34s/it]\n",
      "Processing Items: 100%|██████████| 60/60 [00:00<00:00, 5543.13it/s]\n"
     ]
    },
    {
     "name": "stdout",
     "output_type": "stream",
     "text": [
      "Searching susu formula bayi prematur...\n"
     ]
    },
    {
     "name": "stderr",
     "output_type": "stream",
     "text": [
      "Scrolling: 100%|██████████| 6/6 [00:22<00:00,  3.72s/it]\n",
      "Processing Items: 100%|██████████| 60/60 [00:00<00:00, 6082.67it/s]\n"
     ]
    },
    {
     "name": "stdout",
     "output_type": "stream",
     "text": [
      "Searching susu formula bayi prematur...\n"
     ]
    },
    {
     "name": "stderr",
     "output_type": "stream",
     "text": [
      "Scrolling: 100%|██████████| 6/6 [00:26<00:00,  4.47s/it]\n",
      "Processing Items: 100%|██████████| 60/60 [00:00<00:00, 5999.43it/s]\n"
     ]
    },
    {
     "name": "stdout",
     "output_type": "stream",
     "text": [
      "Searching pangan olahan medis...\n"
     ]
    },
    {
     "name": "stderr",
     "output_type": "stream",
     "text": [
      "Scrolling: 100%|██████████| 6/6 [00:22<00:00,  3.70s/it]\n",
      "Processing Items: 100%|██████████| 60/60 [00:00<00:00, 5143.97it/s]\n"
     ]
    },
    {
     "name": "stdout",
     "output_type": "stream",
     "text": [
      "Searching pangan olahan medis...\n"
     ]
    },
    {
     "name": "stderr",
     "output_type": "stream",
     "text": [
      "Scrolling: 100%|██████████| 6/6 [00:26<00:00,  4.39s/it]\n",
      "Processing Items: 100%|██████████| 60/60 [00:00<00:00, 4931.38it/s]\n"
     ]
    },
    {
     "name": "stdout",
     "output_type": "stream",
     "text": [
      "Searching pangan olahan medis...\n"
     ]
    },
    {
     "name": "stderr",
     "output_type": "stream",
     "text": [
      "Scrolling: 100%|██████████| 6/6 [00:23<00:00,  3.98s/it]\n",
      "Processing Items: 100%|██████████| 60/60 [00:00<00:00, 6357.90it/s]\n"
     ]
    },
    {
     "name": "stdout",
     "output_type": "stream",
     "text": [
      "Searching pangan olahan medis...\n"
     ]
    },
    {
     "name": "stderr",
     "output_type": "stream",
     "text": [
      "Scrolling: 100%|██████████| 6/6 [00:23<00:00,  3.90s/it]\n",
      "Processing Items: 0it [00:00, ?it/s]\n"
     ]
    },
    {
     "name": "stdout",
     "output_type": "stream",
     "text": [
      "Searching pangan olahan medis...\n"
     ]
    },
    {
     "name": "stderr",
     "output_type": "stream",
     "text": [
      "Scrolling: 100%|██████████| 6/6 [00:19<00:00,  3.25s/it]\n",
      "Processing Items: 100%|██████████| 60/60 [00:00<00:00, 4846.57it/s]\n"
     ]
    },
    {
     "name": "stdout",
     "output_type": "stream",
     "text": [
      "Searching bir...\n"
     ]
    },
    {
     "name": "stderr",
     "output_type": "stream",
     "text": [
      "Scrolling: 100%|██████████| 6/6 [00:29<00:00,  4.91s/it]\n",
      "Processing Items: 100%|██████████| 60/60 [00:00<00:00, 4005.13it/s]\n"
     ]
    },
    {
     "name": "stdout",
     "output_type": "stream",
     "text": [
      "Searching bir...\n"
     ]
    },
    {
     "name": "stderr",
     "output_type": "stream",
     "text": [
      "Scrolling: 100%|██████████| 6/6 [00:19<00:00,  3.24s/it]\n",
      "Processing Items: 100%|██████████| 60/60 [00:00<00:00, 5550.96it/s]\n"
     ]
    },
    {
     "name": "stdout",
     "output_type": "stream",
     "text": [
      "Searching bir...\n"
     ]
    },
    {
     "name": "stderr",
     "output_type": "stream",
     "text": [
      "Scrolling: 100%|██████████| 6/6 [00:18<00:00,  3.05s/it]\n",
      "Processing Items: 100%|██████████| 60/60 [00:00<00:00, 6502.63it/s]\n"
     ]
    },
    {
     "name": "stdout",
     "output_type": "stream",
     "text": [
      "Searching bir...\n"
     ]
    },
    {
     "name": "stderr",
     "output_type": "stream",
     "text": [
      "Scrolling: 100%|██████████| 6/6 [00:18<00:00,  3.16s/it]\n",
      "Processing Items: 100%|██████████| 60/60 [00:00<00:00, 5516.76it/s]\n"
     ]
    },
    {
     "name": "stdout",
     "output_type": "stream",
     "text": [
      "Searching bir...\n"
     ]
    },
    {
     "name": "stderr",
     "output_type": "stream",
     "text": [
      "Scrolling: 100%|██████████| 6/6 [00:30<00:00,  5.01s/it]\n",
      "Processing Items: 100%|██████████| 60/60 [00:00<00:00, 5353.63it/s]\n"
     ]
    },
    {
     "name": "stdout",
     "output_type": "stream",
     "text": [
      "Searching whisky minuman alkohol...\n"
     ]
    },
    {
     "name": "stderr",
     "output_type": "stream",
     "text": [
      "Scrolling: 100%|██████████| 6/6 [00:26<00:00,  4.40s/it]\n",
      "Processing Items: 100%|██████████| 60/60 [00:00<00:00, 4943.98it/s]\n"
     ]
    },
    {
     "name": "stdout",
     "output_type": "stream",
     "text": [
      "Searching whisky minuman alkohol...\n"
     ]
    },
    {
     "name": "stderr",
     "output_type": "stream",
     "text": [
      "Scrolling: 100%|██████████| 6/6 [00:20<00:00,  3.39s/it]\n",
      "Processing Items: 100%|██████████| 60/60 [00:00<00:00, 4872.94it/s]\n"
     ]
    },
    {
     "name": "stdout",
     "output_type": "stream",
     "text": [
      "Searching whisky minuman alkohol...\n"
     ]
    },
    {
     "name": "stderr",
     "output_type": "stream",
     "text": [
      "Scrolling: 100%|██████████| 6/6 [00:23<00:00,  4.00s/it]\n",
      "Processing Items: 100%|██████████| 60/60 [00:00<00:00, 5072.22it/s]\n"
     ]
    },
    {
     "name": "stdout",
     "output_type": "stream",
     "text": [
      "Searching whisky minuman alkohol...\n"
     ]
    },
    {
     "name": "stderr",
     "output_type": "stream",
     "text": [
      "Scrolling: 100%|██████████| 6/6 [00:28<00:00,  4.72s/it]\n",
      "Processing Items: 100%|██████████| 60/60 [00:00<00:00, 5964.88it/s]\n"
     ]
    },
    {
     "name": "stdout",
     "output_type": "stream",
     "text": [
      "Searching whisky minuman alkohol...\n"
     ]
    },
    {
     "name": "stderr",
     "output_type": "stream",
     "text": [
      "Scrolling: 100%|██████████| 6/6 [00:20<00:00,  3.43s/it]\n",
      "Processing Items: 100%|██████████| 60/60 [00:00<00:00, 5161.69it/s]\n"
     ]
    },
    {
     "name": "stdout",
     "output_type": "stream",
     "text": [
      "Searching tuak arak...\n"
     ]
    },
    {
     "name": "stderr",
     "output_type": "stream",
     "text": [
      "Scrolling: 100%|██████████| 6/6 [00:27<00:00,  4.54s/it]\n",
      "Processing Items: 100%|██████████| 60/60 [00:00<00:00, 6093.71it/s]\n"
     ]
    },
    {
     "name": "stdout",
     "output_type": "stream",
     "text": [
      "Searching tuak arak...\n"
     ]
    },
    {
     "name": "stderr",
     "output_type": "stream",
     "text": [
      "Scrolling: 100%|██████████| 6/6 [00:22<00:00,  3.77s/it]\n",
      "Processing Items: 100%|██████████| 60/60 [00:00<00:00, 6576.89it/s]\n"
     ]
    },
    {
     "name": "stdout",
     "output_type": "stream",
     "text": [
      "Searching tuak arak...\n"
     ]
    },
    {
     "name": "stderr",
     "output_type": "stream",
     "text": [
      "Scrolling: 100%|██████████| 6/6 [00:21<00:00,  3.65s/it]\n",
      "Processing Items: 100%|██████████| 60/60 [00:00<00:00, 5146.70it/s]\n"
     ]
    },
    {
     "name": "stdout",
     "output_type": "stream",
     "text": [
      "Searching tuak arak...\n"
     ]
    },
    {
     "name": "stderr",
     "output_type": "stream",
     "text": [
      "Scrolling: 100%|██████████| 6/6 [00:26<00:00,  4.47s/it]\n",
      "Processing Items: 100%|██████████| 60/60 [00:00<00:00, 3463.60it/s]\n"
     ]
    },
    {
     "name": "stdout",
     "output_type": "stream",
     "text": [
      "Searching tuak arak...\n"
     ]
    },
    {
     "name": "stderr",
     "output_type": "stream",
     "text": [
      "Scrolling: 100%|██████████| 6/6 [00:22<00:00,  3.80s/it]\n",
      "Processing Items: 100%|██████████| 60/60 [00:00<00:00, 5993.43it/s]\n"
     ]
    },
    {
     "name": "stdout",
     "output_type": "stream",
     "text": [
      "Searching makanan sehat obat...\n"
     ]
    },
    {
     "name": "stderr",
     "output_type": "stream",
     "text": [
      "Scrolling: 100%|██████████| 6/6 [00:24<00:00,  4.07s/it]\n",
      "Processing Items: 100%|██████████| 60/60 [00:00<00:00, 4906.29it/s]\n"
     ]
    },
    {
     "name": "stdout",
     "output_type": "stream",
     "text": [
      "Searching makanan sehat obat...\n"
     ]
    },
    {
     "name": "stderr",
     "output_type": "stream",
     "text": [
      "Scrolling: 100%|██████████| 6/6 [00:22<00:00,  3.69s/it]\n",
      "Processing Items: 100%|██████████| 60/60 [00:00<00:00, 5372.49it/s]\n"
     ]
    },
    {
     "name": "stdout",
     "output_type": "stream",
     "text": [
      "Searching makanan sehat obat...\n"
     ]
    },
    {
     "name": "stderr",
     "output_type": "stream",
     "text": [
      "Scrolling: 100%|██████████| 6/6 [00:18<00:00,  3.11s/it]\n",
      "Processing Items: 100%|██████████| 60/60 [00:00<00:00, 4859.02it/s]\n"
     ]
    },
    {
     "name": "stdout",
     "output_type": "stream",
     "text": [
      "Searching makanan sehat obat...\n"
     ]
    },
    {
     "name": "stderr",
     "output_type": "stream",
     "text": [
      "Scrolling: 100%|██████████| 6/6 [00:20<00:00,  3.36s/it]\n",
      "Processing Items: 100%|██████████| 60/60 [00:00<00:00, 4743.08it/s]\n"
     ]
    },
    {
     "name": "stdout",
     "output_type": "stream",
     "text": [
      "Searching makanan sehat obat...\n"
     ]
    },
    {
     "name": "stderr",
     "output_type": "stream",
     "text": [
      "Scrolling: 100%|██████████| 6/6 [00:18<00:00,  3.03s/it]\n",
      "Processing Items: 100%|██████████| 60/60 [00:00<00:00, 4861.46it/s]\n"
     ]
    },
    {
     "name": "stdout",
     "output_type": "stream",
     "text": [
      "Searching minuman pembesar...\n"
     ]
    },
    {
     "name": "stderr",
     "output_type": "stream",
     "text": [
      "Scrolling: 100%|██████████| 6/6 [00:17<00:00,  2.97s/it]\n",
      "Processing Items: 100%|██████████| 60/60 [00:00<00:00, 6157.68it/s]\n"
     ]
    },
    {
     "name": "stdout",
     "output_type": "stream",
     "text": [
      "Searching minuman pembesar...\n"
     ]
    },
    {
     "name": "stderr",
     "output_type": "stream",
     "text": [
      "Scrolling: 100%|██████████| 6/6 [00:18<00:00,  3.04s/it]\n",
      "Processing Items: 100%|██████████| 60/60 [00:00<00:00, 5304.99it/s]\n"
     ]
    },
    {
     "name": "stdout",
     "output_type": "stream",
     "text": [
      "Searching minuman pembesar...\n"
     ]
    },
    {
     "name": "stderr",
     "output_type": "stream",
     "text": [
      "Scrolling: 100%|██████████| 6/6 [00:20<00:00,  3.49s/it]\n",
      "Processing Items: 100%|██████████| 60/60 [00:00<00:00, 4978.01it/s]\n"
     ]
    },
    {
     "name": "stdout",
     "output_type": "stream",
     "text": [
      "Searching minuman pembesar...\n"
     ]
    },
    {
     "name": "stderr",
     "output_type": "stream",
     "text": [
      "Scrolling: 100%|██████████| 6/6 [00:20<00:00,  3.40s/it]\n",
      "Processing Items: 100%|██████████| 60/60 [00:00<00:00, 5213.34it/s]\n"
     ]
    },
    {
     "name": "stdout",
     "output_type": "stream",
     "text": [
      "Searching minuman pembesar...\n"
     ]
    },
    {
     "name": "stderr",
     "output_type": "stream",
     "text": [
      "Scrolling: 100%|██████████| 6/6 [00:19<00:00,  3.29s/it]\n",
      "Processing Items: 100%|██████████| 60/60 [00:00<00:00, 5014.11it/s]\n"
     ]
    },
    {
     "name": "stdout",
     "output_type": "stream",
     "text": [
      "Searching minuman penambah stamina...\n"
     ]
    },
    {
     "name": "stderr",
     "output_type": "stream",
     "text": [
      "Scrolling: 100%|██████████| 6/6 [00:23<00:00,  3.85s/it]\n",
      "Processing Items: 100%|██████████| 60/60 [00:00<00:00, 5656.26it/s]\n"
     ]
    },
    {
     "name": "stdout",
     "output_type": "stream",
     "text": [
      "Searching minuman penambah stamina...\n"
     ]
    },
    {
     "name": "stderr",
     "output_type": "stream",
     "text": [
      "Scrolling: 100%|██████████| 6/6 [00:22<00:00,  3.72s/it]\n",
      "Processing Items: 100%|██████████| 60/60 [00:00<00:00, 5176.45it/s]\n"
     ]
    },
    {
     "name": "stdout",
     "output_type": "stream",
     "text": [
      "Searching minuman penambah stamina...\n"
     ]
    },
    {
     "name": "stderr",
     "output_type": "stream",
     "text": [
      "Scrolling: 100%|██████████| 6/6 [00:17<00:00,  2.98s/it]\n",
      "Processing Items: 100%|██████████| 60/60 [00:00<00:00, 5106.39it/s]\n"
     ]
    },
    {
     "name": "stdout",
     "output_type": "stream",
     "text": [
      "Searching minuman penambah stamina...\n"
     ]
    },
    {
     "name": "stderr",
     "output_type": "stream",
     "text": [
      "Scrolling: 100%|██████████| 6/6 [00:22<00:00,  3.82s/it]\n",
      "Processing Items: 100%|██████████| 60/60 [00:00<00:00, 5181.35it/s]\n"
     ]
    },
    {
     "name": "stdout",
     "output_type": "stream",
     "text": [
      "Searching minuman penambah stamina...\n"
     ]
    },
    {
     "name": "stderr",
     "output_type": "stream",
     "text": [
      "Scrolling: 100%|██████████| 6/6 [00:28<00:00,  4.78s/it]\n",
      "Processing Items: 100%|██████████| 60/60 [00:00<00:00, 2967.67it/s]\n"
     ]
    }
   ],
   "source": [
    "if __name__ == '__main__':\n",
    "    options = webdriver.ChromeOptions()\n",
    "    options.add_argument('proxy-server=71.86.129.131:8080')\n",
    "    driver = uc.Chrome(\n",
    "        options=options,\n",
    "    )\n",
    "    \n",
    "    first_login_and_save_cookies(driver, email, password)\n",
    "    \n",
    "    df_all = pd.DataFrame()\n",
    "    \n",
    "    for keyword in keyword_makanan_ilegal:\n",
    "        for page in range(5):\n",
    "            delay()\n",
    "            df = keyword_search_results(driver, base_url, keyword, page, email, password)\n",
    "            df_all = pd.concat([df_all, df], ignore_index=True)\n",
    "\n",
    "    driver.quit()"
   ]
  },
  {
   "cell_type": "code",
   "execution_count": 22,
   "id": "96432408-3f00-47ec-84e2-35255451e3d5",
   "metadata": {
    "tags": []
   },
   "outputs": [],
   "source": [
    "df_all.to_csv('df_all_keywords_final.csv', index=False)"
   ]
  },
  {
   "cell_type": "code",
   "execution_count": 24,
   "id": "43d80f24-3ee7-49b3-b4f0-3f2b21603070",
   "metadata": {
    "tags": []
   },
   "outputs": [],
   "source": [
    "df_drop = df_all.drop_duplicates()"
   ]
  },
  {
   "cell_type": "code",
   "execution_count": 26,
   "id": "2faf6af7-3641-4f8f-be5f-f3eddea2b642",
   "metadata": {
    "tags": []
   },
   "outputs": [],
   "source": [
    "df_drop.to_csv('df_all_keywords_no_duplicates.csv', index=False)"
   ]
  },
  {
   "cell_type": "code",
   "execution_count": 69,
   "id": "91640fb3-467b-4b29-8dd4-35682cad8b1e",
   "metadata": {
    "tags": []
   },
   "outputs": [],
   "source": [
    "df = pd.read_csv('./dataset/df_all_keywords_no_duplicates.csv')"
   ]
  },
  {
   "cell_type": "code",
   "execution_count": 70,
   "id": "4367097f-97fb-4bc6-8df0-74696f533df7",
   "metadata": {
    "tags": []
   },
   "outputs": [
    {
     "data": {
      "text/html": [
       "<div>\n",
       "<style scoped>\n",
       "    .dataframe tbody tr th:only-of-type {\n",
       "        vertical-align: middle;\n",
       "    }\n",
       "\n",
       "    .dataframe tbody tr th {\n",
       "        vertical-align: top;\n",
       "    }\n",
       "\n",
       "    .dataframe thead th {\n",
       "        text-align: right;\n",
       "    }\n",
       "</style>\n",
       "<table border=\"1\" class=\"dataframe\">\n",
       "  <thead>\n",
       "    <tr style=\"text-align: right;\">\n",
       "      <th></th>\n",
       "      <th>title</th>\n",
       "      <th>price</th>\n",
       "      <th>sold</th>\n",
       "      <th>location</th>\n",
       "      <th>link</th>\n",
       "    </tr>\n",
       "  </thead>\n",
       "  <tbody>\n",
       "    <tr>\n",
       "      <th>0</th>\n",
       "      <td>HALAL-Netflix (JINGFENG)  LATIAO Tendon Daging...</td>\n",
       "      <td>9.800</td>\n",
       "      <td>71 Terjual</td>\n",
       "      <td>KAB. GRESIK</td>\n",
       "      <td>https://shopee.co.id/HALAL-Netflix-(JINGFENG)-...</td>\n",
       "    </tr>\n",
       "    <tr>\n",
       "      <th>1</th>\n",
       "      <td>YumBites Macaroni Crispy - Makaroni Krispi Cem...</td>\n",
       "      <td>35.000</td>\n",
       "      <td>181 Terjual</td>\n",
       "      <td>KOTA JAKARTA UTARA</td>\n",
       "      <td>https://shopee.co.id/YumBites-Macaroni-Crispy-...</td>\n",
       "    </tr>\n",
       "    <tr>\n",
       "      <th>2</th>\n",
       "      <td>Coklat Chocodot Update Series Penangkal Bucin 50g</td>\n",
       "      <td>9.750</td>\n",
       "      <td>31 Terjual</td>\n",
       "      <td>KAB. GARUT</td>\n",
       "      <td>https://shopee.co.id/Coklat-Chocodot-Update-Se...</td>\n",
       "    </tr>\n",
       "    <tr>\n",
       "      <th>3</th>\n",
       "      <td>TRIPLE Almond Crispy Cheese Greentea PUNPUN</td>\n",
       "      <td>165.000</td>\n",
       "      <td>92 Terjual</td>\n",
       "      <td>KOTA SURABAYA</td>\n",
       "      <td>https://shopee.co.id/TRIPLE-Almond-Crispy-Chee...</td>\n",
       "    </tr>\n",
       "    <tr>\n",
       "      <th>4</th>\n",
       "      <td>Beryls Chocolate Coklat Durian Import Malaysia...</td>\n",
       "      <td>42.299</td>\n",
       "      <td>481 Terjual</td>\n",
       "      <td>KOTA JAKARTA BARAT</td>\n",
       "      <td>https://shopee.co.id/Beryls-Chocolate-Coklat-D...</td>\n",
       "    </tr>\n",
       "    <tr>\n",
       "      <th>...</th>\n",
       "      <td>...</td>\n",
       "      <td>...</td>\n",
       "      <td>...</td>\n",
       "      <td>...</td>\n",
       "      <td>...</td>\n",
       "    </tr>\n",
       "    <tr>\n",
       "      <th>3420</th>\n",
       "      <td>Ginseng ejiao dangshen dihuang,penambah trombo...</td>\n",
       "      <td>216.000</td>\n",
       "      <td>1,1RB Terjual</td>\n",
       "      <td>KOTA SURABAYA</td>\n",
       "      <td>https://shopee.co.id/Ginseng-ejiao-dangshen-di...</td>\n",
       "    </tr>\n",
       "    <tr>\n",
       "      <th>3421</th>\n",
       "      <td>mister golo/golo ginseng/mister golo gingseng ...</td>\n",
       "      <td>59.000</td>\n",
       "      <td>92 Terjual</td>\n",
       "      <td>KOTA JAKARTA TIMUR</td>\n",
       "      <td>https://shopee.co.id/mister-golo-golo-ginseng-...</td>\n",
       "    </tr>\n",
       "    <tr>\n",
       "      <th>3422</th>\n",
       "      <td>Kopi Obat Kuat Pria Tahan Lama BIGMAXX Stamina...</td>\n",
       "      <td>120</td>\n",
       "      <td>NaN</td>\n",
       "      <td>KAB. SUMEDANG</td>\n",
       "      <td>https://shopee.co.id/Kopi-Obat-Kuat-Pria-Tahan...</td>\n",
       "    </tr>\n",
       "    <tr>\n",
       "      <th>3423</th>\n",
       "      <td>Dijamin Paksu nya Greng 4-G Joss Asli Original...</td>\n",
       "      <td>85.000</td>\n",
       "      <td>NaN</td>\n",
       "      <td>KOTA SEMARANG</td>\n",
       "      <td>https://shopee.co.id/Dijamin-Paksu-nya-Greng-4...</td>\n",
       "    </tr>\n",
       "    <tr>\n",
       "      <th>3424</th>\n",
       "      <td>Obat Lemah Syahwat - Obat Ejakulasi Dini - Oba...</td>\n",
       "      <td>60.000</td>\n",
       "      <td>59 Terjual</td>\n",
       "      <td>KOTA JAKARTA TIMUR</td>\n",
       "      <td>https://shopee.co.id/Obat-Lemah-Syahwat-Obat-E...</td>\n",
       "    </tr>\n",
       "  </tbody>\n",
       "</table>\n",
       "<p>3425 rows × 5 columns</p>\n",
       "</div>"
      ],
      "text/plain": [
       "                                                  title    price  \\\n",
       "0     HALAL-Netflix (JINGFENG)  LATIAO Tendon Daging...    9.800   \n",
       "1     YumBites Macaroni Crispy - Makaroni Krispi Cem...   35.000   \n",
       "2     Coklat Chocodot Update Series Penangkal Bucin 50g    9.750   \n",
       "3           TRIPLE Almond Crispy Cheese Greentea PUNPUN  165.000   \n",
       "4     Beryls Chocolate Coklat Durian Import Malaysia...   42.299   \n",
       "...                                                 ...      ...   \n",
       "3420  Ginseng ejiao dangshen dihuang,penambah trombo...  216.000   \n",
       "3421  mister golo/golo ginseng/mister golo gingseng ...   59.000   \n",
       "3422  Kopi Obat Kuat Pria Tahan Lama BIGMAXX Stamina...      120   \n",
       "3423  Dijamin Paksu nya Greng 4-G Joss Asli Original...   85.000   \n",
       "3424  Obat Lemah Syahwat - Obat Ejakulasi Dini - Oba...   60.000   \n",
       "\n",
       "               sold            location  \\\n",
       "0        71 Terjual         KAB. GRESIK   \n",
       "1       181 Terjual  KOTA JAKARTA UTARA   \n",
       "2        31 Terjual          KAB. GARUT   \n",
       "3        92 Terjual       KOTA SURABAYA   \n",
       "4       481 Terjual  KOTA JAKARTA BARAT   \n",
       "...             ...                 ...   \n",
       "3420  1,1RB Terjual       KOTA SURABAYA   \n",
       "3421     92 Terjual  KOTA JAKARTA TIMUR   \n",
       "3422            NaN       KAB. SUMEDANG   \n",
       "3423            NaN       KOTA SEMARANG   \n",
       "3424     59 Terjual  KOTA JAKARTA TIMUR   \n",
       "\n",
       "                                                   link  \n",
       "0     https://shopee.co.id/HALAL-Netflix-(JINGFENG)-...  \n",
       "1     https://shopee.co.id/YumBites-Macaroni-Crispy-...  \n",
       "2     https://shopee.co.id/Coklat-Chocodot-Update-Se...  \n",
       "3     https://shopee.co.id/TRIPLE-Almond-Crispy-Chee...  \n",
       "4     https://shopee.co.id/Beryls-Chocolate-Coklat-D...  \n",
       "...                                                 ...  \n",
       "3420  https://shopee.co.id/Ginseng-ejiao-dangshen-di...  \n",
       "3421  https://shopee.co.id/mister-golo-golo-ginseng-...  \n",
       "3422  https://shopee.co.id/Kopi-Obat-Kuat-Pria-Tahan...  \n",
       "3423  https://shopee.co.id/Dijamin-Paksu-nya-Greng-4...  \n",
       "3424  https://shopee.co.id/Obat-Lemah-Syahwat-Obat-E...  \n",
       "\n",
       "[3425 rows x 5 columns]"
      ]
     },
     "execution_count": 70,
     "metadata": {},
     "output_type": "execute_result"
    }
   ],
   "source": [
    "df"
   ]
  },
  {
   "cell_type": "code",
   "execution_count": 62,
   "id": "7df094dc-d317-474a-b8c8-22c5d697efe4",
   "metadata": {
    "tags": []
   },
   "outputs": [
    {
     "name": "stdout",
     "output_type": "stream",
     "text": [
      "Login success, Cookies are saved and added to driver\n"
     ]
    },
    {
     "name": "stderr",
     "output_type": "stream",
     "text": [
      "Scrolling: 100%|██████████| 1/1 [00:05<00:00,  5.63s/it]\n",
      "Scrolling: 100%|██████████| 1/1 [00:03<00:00,  3.57s/it]\n",
      "Scrolling: 100%|██████████| 1/1 [00:05<00:00,  5.88s/it]\n"
     ]
    }
   ],
   "source": [
    "if __name__ == '__main__':\n",
    "    options = webdriver.ChromeOptions()\n",
    "    options.add_argument('proxy-server=150.107.136.110:8082')\n",
    "    driver = uc.Chrome(\n",
    "        options=options,\n",
    "    )\n",
    "    \n",
    "    first_login_and_save_cookies(driver, email, password)\n",
    "    links = df_all[\"link\"].values\n",
    "    df = search_detail_per_product(driver, base_url, links[:3], email, password)\n",
    "    df_final = pd.merge(df_all[:3], df, on='link', how='inner')"
   ]
  },
  {
   "cell_type": "code",
   "execution_count": 64,
   "id": "3b4277d3-93f8-44be-b001-46774e70068f",
   "metadata": {
    "tags": []
   },
   "outputs": [],
   "source": [
    "df_final.to_csv('df_example.csv', index=False)"
   ]
  },
  {
   "cell_type": "code",
   "execution_count": 65,
   "id": "ec885ca0-f7af-411d-939e-b28a07a82cfe",
   "metadata": {
    "tags": []
   },
   "outputs": [
    {
     "data": {
      "text/html": [
       "<div>\n",
       "<style scoped>\n",
       "    .dataframe tbody tr th:only-of-type {\n",
       "        vertical-align: middle;\n",
       "    }\n",
       "\n",
       "    .dataframe tbody tr th {\n",
       "        vertical-align: top;\n",
       "    }\n",
       "\n",
       "    .dataframe thead th {\n",
       "        text-align: right;\n",
       "    }\n",
       "</style>\n",
       "<table border=\"1\" class=\"dataframe\">\n",
       "  <thead>\n",
       "    <tr style=\"text-align: right;\">\n",
       "      <th></th>\n",
       "      <th>title</th>\n",
       "      <th>price</th>\n",
       "      <th>sold</th>\n",
       "      <th>location</th>\n",
       "      <th>link</th>\n",
       "      <th>seller</th>\n",
       "      <th>seller_link</th>\n",
       "      <th>description</th>\n",
       "      <th>review</th>\n",
       "    </tr>\n",
       "  </thead>\n",
       "  <tbody>\n",
       "    <tr>\n",
       "      <th>0</th>\n",
       "      <td>HALAL-Netflix (JINGFENG)  LATIAO Tendon Daging...</td>\n",
       "      <td>9.800</td>\n",
       "      <td>71 Terjual</td>\n",
       "      <td>KAB. GRESIK</td>\n",
       "      <td>https://shopee.co.id/HALAL-Netflix-(JINGFENG)-...</td>\n",
       "      <td>Sanbaru Makanan Ringan Impor</td>\n",
       "      <td>https://shopee.co.id/bhsiln_wd3?categoryId=100...</td>\n",
       "      <td>Deskripsi Produk: \\n\\nMerek: Jing Feng\\nSeri: ...</td>\n",
       "      <td>Kualitas:baik n higienis\\nRasa:wenaaaaaak\\n\\nS...</td>\n",
       "    </tr>\n",
       "    <tr>\n",
       "      <th>1</th>\n",
       "      <td>YumBites Macaroni Crispy - Makaroni Krispi Cem...</td>\n",
       "      <td>35.000</td>\n",
       "      <td>181 Terjual</td>\n",
       "      <td>KOTA JAKARTA UTARA</td>\n",
       "      <td>https://shopee.co.id/YumBites-Macaroni-Crispy-...</td>\n",
       "      <td>YumBites Healthy Foods</td>\n",
       "      <td>https://shopee.co.id/yumbiteshealthy?categoryI...</td>\n",
       "      <td>YumBites Macaroni Crispy - Snack Macaroni Kriu...</td>\n",
       "      <td>enak bangeeet! Pedes gurihnya pas. Pedesnya ga...</td>\n",
       "    </tr>\n",
       "    <tr>\n",
       "      <th>2</th>\n",
       "      <td>Coklat Chocodot Update Series Penangkal Bucin 50g</td>\n",
       "      <td>9.750</td>\n",
       "      <td>31 Terjual</td>\n",
       "      <td>KAB. GARUT</td>\n",
       "      <td>https://shopee.co.id/Coklat-Chocodot-Update-Se...</td>\n",
       "      <td>Chocodot Official Shop</td>\n",
       "      <td>https://shopee.co.id/cokelatchocodot?categoryI...</td>\n",
       "      <td>Coklat Chocodot Update Series Penangkal Bucin ...</td>\n",
       "      <td></td>\n",
       "    </tr>\n",
       "  </tbody>\n",
       "</table>\n",
       "</div>"
      ],
      "text/plain": [
       "                                               title   price         sold  \\\n",
       "0  HALAL-Netflix (JINGFENG)  LATIAO Tendon Daging...   9.800   71 Terjual   \n",
       "1  YumBites Macaroni Crispy - Makaroni Krispi Cem...  35.000  181 Terjual   \n",
       "2  Coklat Chocodot Update Series Penangkal Bucin 50g   9.750   31 Terjual   \n",
       "\n",
       "             location                                               link  \\\n",
       "0         KAB. GRESIK  https://shopee.co.id/HALAL-Netflix-(JINGFENG)-...   \n",
       "1  KOTA JAKARTA UTARA  https://shopee.co.id/YumBites-Macaroni-Crispy-...   \n",
       "2          KAB. GARUT  https://shopee.co.id/Coklat-Chocodot-Update-Se...   \n",
       "\n",
       "                         seller  \\\n",
       "0  Sanbaru Makanan Ringan Impor   \n",
       "1        YumBites Healthy Foods   \n",
       "2        Chocodot Official Shop   \n",
       "\n",
       "                                         seller_link  \\\n",
       "0  https://shopee.co.id/bhsiln_wd3?categoryId=100...   \n",
       "1  https://shopee.co.id/yumbiteshealthy?categoryI...   \n",
       "2  https://shopee.co.id/cokelatchocodot?categoryI...   \n",
       "\n",
       "                                         description  \\\n",
       "0  Deskripsi Produk: \\n\\nMerek: Jing Feng\\nSeri: ...   \n",
       "1  YumBites Macaroni Crispy - Snack Macaroni Kriu...   \n",
       "2  Coklat Chocodot Update Series Penangkal Bucin ...   \n",
       "\n",
       "                                              review  \n",
       "0  Kualitas:baik n higienis\\nRasa:wenaaaaaak\\n\\nS...  \n",
       "1  enak bangeeet! Pedes gurihnya pas. Pedesnya ga...  \n",
       "2                                                     "
      ]
     },
     "execution_count": 65,
     "metadata": {},
     "output_type": "execute_result"
    }
   ],
   "source": [
    "df_final"
   ]
  },
  {
   "cell_type": "code",
   "execution_count": 13,
   "id": "b22157fb-c07a-4a00-a964-6d5dbbee21b0",
   "metadata": {
    "tags": []
   },
   "outputs": [
    {
     "data": {
      "text/html": [
       "<div>\n",
       "<style scoped>\n",
       "    .dataframe tbody tr th:only-of-type {\n",
       "        vertical-align: middle;\n",
       "    }\n",
       "\n",
       "    .dataframe tbody tr th {\n",
       "        vertical-align: top;\n",
       "    }\n",
       "\n",
       "    .dataframe thead th {\n",
       "        text-align: right;\n",
       "    }\n",
       "</style>\n",
       "<table border=\"1\" class=\"dataframe\">\n",
       "  <thead>\n",
       "    <tr style=\"text-align: right;\">\n",
       "      <th></th>\n",
       "      <th>title</th>\n",
       "      <th>price</th>\n",
       "      <th>sold</th>\n",
       "      <th>location</th>\n",
       "      <th>link</th>\n",
       "    </tr>\n",
       "  </thead>\n",
       "  <tbody>\n",
       "    <tr>\n",
       "      <th>0</th>\n",
       "      <td>Bak Kua Hock Moon Hong Dried Meat King Malaysia</td>\n",
       "      <td>215.000</td>\n",
       "      <td>82 Terjual</td>\n",
       "      <td>KOTA JAKARTA UTARA</td>\n",
       "      <td>https://shopee.co.id/Bak-Kua-Hock-Moon-Hong-Dr...</td>\n",
       "    </tr>\n",
       "    <tr>\n",
       "      <th>1</th>\n",
       "      <td>ROYAL FAMILY MOCHI TAIWAN STRAWBERRY MATCHA TA...</td>\n",
       "      <td>48.800</td>\n",
       "      <td>610 Terjual</td>\n",
       "      <td>KOTA PONTIANAK</td>\n",
       "      <td>https://shopee.co.id/ROYAL-FAMILY-MOCHI-TAIWAN...</td>\n",
       "    </tr>\n",
       "    <tr>\n",
       "      <th>2</th>\n",
       "      <td>FREE PAPERBAG BAKKUA IMPORT MALAYSIA DRIED MEA...</td>\n",
       "      <td>238.000</td>\n",
       "      <td>None</td>\n",
       "      <td>KOTA PEKANBARU</td>\n",
       "      <td>https://shopee.co.id/FREE-PAPERBAG-BAKKUA-IMPO...</td>\n",
       "    </tr>\n",
       "    <tr>\n",
       "      <th>3</th>\n",
       "      <td>Maggi Mee import malaysia</td>\n",
       "      <td>35.000</td>\n",
       "      <td>29 Terjual</td>\n",
       "      <td>KOTA SINGKAWANG</td>\n",
       "      <td>https://shopee.co.id/Maggi-Mee-import-malaysia...</td>\n",
       "    </tr>\n",
       "    <tr>\n",
       "      <th>4</th>\n",
       "      <td>NESTUM SPECIAL EDITION TARO BROWN RICE IMPOR M...</td>\n",
       "      <td>62.800</td>\n",
       "      <td>27 Terjual</td>\n",
       "      <td>KOTA PONTIANAK</td>\n",
       "      <td>https://shopee.co.id/NESTUM-SPECIAL-EDITION-TA...</td>\n",
       "    </tr>\n",
       "    <tr>\n",
       "      <th>...</th>\n",
       "      <td>...</td>\n",
       "      <td>...</td>\n",
       "      <td>...</td>\n",
       "      <td>...</td>\n",
       "      <td>...</td>\n",
       "    </tr>\n",
       "    <tr>\n",
       "      <th>1493</th>\n",
       "      <td></td>\n",
       "      <td></td>\n",
       "      <td></td>\n",
       "      <td></td>\n",
       "      <td></td>\n",
       "    </tr>\n",
       "    <tr>\n",
       "      <th>1494</th>\n",
       "      <td></td>\n",
       "      <td></td>\n",
       "      <td></td>\n",
       "      <td></td>\n",
       "      <td></td>\n",
       "    </tr>\n",
       "    <tr>\n",
       "      <th>1495</th>\n",
       "      <td></td>\n",
       "      <td></td>\n",
       "      <td></td>\n",
       "      <td></td>\n",
       "      <td></td>\n",
       "    </tr>\n",
       "    <tr>\n",
       "      <th>1496</th>\n",
       "      <td></td>\n",
       "      <td></td>\n",
       "      <td></td>\n",
       "      <td></td>\n",
       "      <td></td>\n",
       "    </tr>\n",
       "    <tr>\n",
       "      <th>1497</th>\n",
       "      <td></td>\n",
       "      <td></td>\n",
       "      <td></td>\n",
       "      <td></td>\n",
       "      <td></td>\n",
       "    </tr>\n",
       "  </tbody>\n",
       "</table>\n",
       "<p>1498 rows × 5 columns</p>\n",
       "</div>"
      ],
      "text/plain": [
       "                                                  title    price         sold  \\\n",
       "0       Bak Kua Hock Moon Hong Dried Meat King Malaysia  215.000   82 Terjual   \n",
       "1     ROYAL FAMILY MOCHI TAIWAN STRAWBERRY MATCHA TA...   48.800  610 Terjual   \n",
       "2     FREE PAPERBAG BAKKUA IMPORT MALAYSIA DRIED MEA...  238.000         None   \n",
       "3                             Maggi Mee import malaysia   35.000   29 Terjual   \n",
       "4     NESTUM SPECIAL EDITION TARO BROWN RICE IMPOR M...   62.800   27 Terjual   \n",
       "...                                                 ...      ...          ...   \n",
       "1493                                                                            \n",
       "1494                                                                            \n",
       "1495                                                                            \n",
       "1496                                                                            \n",
       "1497                                                                            \n",
       "\n",
       "                location                                               link  \n",
       "0     KOTA JAKARTA UTARA  https://shopee.co.id/Bak-Kua-Hock-Moon-Hong-Dr...  \n",
       "1         KOTA PONTIANAK  https://shopee.co.id/ROYAL-FAMILY-MOCHI-TAIWAN...  \n",
       "2         KOTA PEKANBARU  https://shopee.co.id/FREE-PAPERBAG-BAKKUA-IMPO...  \n",
       "3        KOTA SINGKAWANG  https://shopee.co.id/Maggi-Mee-import-malaysia...  \n",
       "4         KOTA PONTIANAK  https://shopee.co.id/NESTUM-SPECIAL-EDITION-TA...  \n",
       "...                  ...                                                ...  \n",
       "1493                                                                         \n",
       "1494                                                                         \n",
       "1495                                                                         \n",
       "1496                                                                         \n",
       "1497                                                                         \n",
       "\n",
       "[1498 rows x 5 columns]"
      ]
     },
     "execution_count": 13,
     "metadata": {},
     "output_type": "execute_result"
    }
   ],
   "source": [
    "df_all"
   ]
  },
  {
   "cell_type": "code",
   "execution_count": 15,
   "id": "b7a33a36-86cb-4a50-8805-6e58081a0710",
   "metadata": {
    "tags": []
   },
   "outputs": [],
   "source": [
    "df_all.to_csv('df_all_keywords.csv', index=False)"
   ]
  },
  {
   "cell_type": "code",
   "execution_count": 16,
   "id": "af628e13-5428-496d-9a11-6bf80fce2107",
   "metadata": {
    "tags": []
   },
   "outputs": [],
   "source": [
    "df_impor = df.copy()"
   ]
  },
  {
   "cell_type": "code",
   "execution_count": 17,
   "id": "9a4099e4-0fc0-4d92-b657-e56dc6090489",
   "metadata": {
    "collapsed": true,
    "jupyter": {
     "outputs_hidden": true
    },
    "tags": []
   },
   "outputs": [
    {
     "data": {
      "text/html": [
       "<div>\n",
       "<style scoped>\n",
       "    .dataframe tbody tr th:only-of-type {\n",
       "        vertical-align: middle;\n",
       "    }\n",
       "\n",
       "    .dataframe tbody tr th {\n",
       "        vertical-align: top;\n",
       "    }\n",
       "\n",
       "    .dataframe thead th {\n",
       "        text-align: right;\n",
       "    }\n",
       "</style>\n",
       "<table border=\"1\" class=\"dataframe\">\n",
       "  <thead>\n",
       "    <tr style=\"text-align: right;\">\n",
       "      <th></th>\n",
       "      <th>Judul</th>\n",
       "      <th>Harga</th>\n",
       "      <th>Link</th>\n",
       "      <th>Terjual</th>\n",
       "      <th>Lokasi</th>\n",
       "    </tr>\n",
       "  </thead>\n",
       "  <tbody>\n",
       "    <tr>\n",
       "      <th>0</th>\n",
       "      <td>Snack Cemilan Makanan Kering Wan Mei Durian Va...</td>\n",
       "      <td>124.000</td>\n",
       "      <td>https://shopee.co.id/Snack-Cemilan-Makanan-Ker...</td>\n",
       "      <td>43 Terjual</td>\n",
       "      <td>KOTA JAKARTA BARAT</td>\n",
       "    </tr>\n",
       "    <tr>\n",
       "      <th>1</th>\n",
       "      <td>salad thailand | Som tam | Momby Kitchen</td>\n",
       "      <td>185.000</td>\n",
       "      <td>https://shopee.co.id/salad-thailand-Som-tam-Mo...</td>\n",
       "      <td>775 Terjual</td>\n",
       "      <td>KAB. TANGERANG</td>\n",
       "    </tr>\n",
       "    <tr>\n",
       "      <th>2</th>\n",
       "      <td>ready HALAL Wan Mei Durian Vacuum Freeze Dried...</td>\n",
       "      <td>19.090</td>\n",
       "      <td>https://shopee.co.id/ready-HALAL-Wan-Mei-Duria...</td>\n",
       "      <td>25 Terjual</td>\n",
       "      <td>KOTA JAKARTA BARAT</td>\n",
       "    </tr>\n",
       "    <tr>\n",
       "      <th>3</th>\n",
       "      <td>Candy Fruit/Permen Buah/Snack Thailand/Buah Buah</td>\n",
       "      <td>89.500</td>\n",
       "      <td>https://shopee.co.id/Candy-Fruit-Permen-Buah-S...</td>\n",
       "      <td>273 Terjual</td>\n",
       "      <td>KOTA JAKARTA BARAT</td>\n",
       "    </tr>\n",
       "    <tr>\n",
       "      <th>4</th>\n",
       "      <td>READY STOK MIE THAILAND Maggi Siam Serda Insta...</td>\n",
       "      <td>9.792</td>\n",
       "      <td>https://shopee.co.id/READY-STOK-MIE-THAILAND-M...</td>\n",
       "      <td>None</td>\n",
       "      <td>KOTA JAKARTA BARAT</td>\n",
       "    </tr>\n",
       "    <tr>\n",
       "      <th>5</th>\n",
       "      <td>READY STOCK HALAL Mie Instan Merk Serda Rasa T...</td>\n",
       "      <td>10.999</td>\n",
       "      <td>https://shopee.co.id/READY-STOCK-HALAL-Mie-Ins...</td>\n",
       "      <td>61 Terjual</td>\n",
       "      <td>KOTA JAKARTA BARAT</td>\n",
       "    </tr>\n",
       "    <tr>\n",
       "      <th>6</th>\n",
       "      <td>Makanan HALAL Wan Mei Durian Vacuum Freeze Dri...</td>\n",
       "      <td>125.550</td>\n",
       "      <td>https://shopee.co.id/Makanan-HALAL-Wan-Mei-Dur...</td>\n",
       "      <td>26 Terjual</td>\n",
       "      <td>KOTA JAKARTA BARAT</td>\n",
       "    </tr>\n",
       "    <tr>\n",
       "      <th>7</th>\n",
       "      <td>HALAL JUHI BENTO SQUID THAILAND 18GRAM SNACK C...</td>\n",
       "      <td>16.500</td>\n",
       "      <td>https://shopee.co.id/HALAL-JUHI-BENTO-SQUID-TH...</td>\n",
       "      <td>898 Terjual</td>\n",
       "      <td>KOTA JAKARTA BARAT</td>\n",
       "    </tr>\n",
       "    <tr>\n",
       "      <th>8</th>\n",
       "      <td>Makanan halal Beng-Beng Wafer White Chocolate ...</td>\n",
       "      <td>6.045</td>\n",
       "      <td>https://shopee.co.id/Makanan-halal-Beng-Beng-W...</td>\n",
       "      <td>46 Terjual</td>\n",
       "      <td>KOTA JAKARTA BARAT</td>\n",
       "    </tr>\n",
       "    <tr>\n",
       "      <th>9</th>\n",
       "      <td>Kwetiaw / Makanan Import Thailand - PAPA Kua C...</td>\n",
       "      <td>8.500</td>\n",
       "      <td>https://shopee.co.id/Kwetiaw-Makanan-Import-Th...</td>\n",
       "      <td>461 Terjual</td>\n",
       "      <td>KOTA JAKARTA BARAT</td>\n",
       "    </tr>\n",
       "    <tr>\n",
       "      <th>10</th>\n",
       "      <td>READY STOCK Makanan halal Beng-Beng Wafer Whit...</td>\n",
       "      <td>6.045</td>\n",
       "      <td>https://shopee.co.id/READY-STOCK-Makanan-halal...</td>\n",
       "      <td>17 Terjual</td>\n",
       "      <td>KOTA JAKARTA BARAT</td>\n",
       "    </tr>\n",
       "    <tr>\n",
       "      <th>11</th>\n",
       "      <td>racunimport.id - READY STOK HALAL JUHI BENTO S...</td>\n",
       "      <td>17.640</td>\n",
       "      <td>https://shopee.co.id/racunimport.id-READY-STOK...</td>\n",
       "      <td>21 Terjual</td>\n",
       "      <td>KOTA JAKARTA BARAT</td>\n",
       "    </tr>\n",
       "    <tr>\n",
       "      <th>12</th>\n",
       "      <td>Rozocha Mango Durian Sticky Rice Dried Snack M...</td>\n",
       "      <td>94.999</td>\n",
       "      <td>https://shopee.co.id/Rozocha-Mango-Durian-Stic...</td>\n",
       "      <td>33 Terjual</td>\n",
       "      <td>KOTA JAKARTA BARAT</td>\n",
       "    </tr>\n",
       "    <tr>\n",
       "      <th>13</th>\n",
       "      <td>Durian Wanmei 1pack isi 10pc HALAL/ Wan Mei Du...</td>\n",
       "      <td>190.000</td>\n",
       "      <td>https://shopee.co.id/Durian-Wanmei-1pack-isi-1...</td>\n",
       "      <td>15 Terjual</td>\n",
       "      <td>KOTA JAKARTA BARAT</td>\n",
       "    </tr>\n",
       "    <tr>\n",
       "      <th>14</th>\n",
       "      <td>Kacang Thailand 1KG / Kacang Bangkok Jumbo | O...</td>\n",
       "      <td>59.999</td>\n",
       "      <td>https://shopee.co.id/Kacang-Thailand-1KG-Kacan...</td>\n",
       "      <td>82 Terjual</td>\n",
       "      <td>KOTA JAKARTA BARAT</td>\n",
       "    </tr>\n",
       "    <tr>\n",
       "      <th>15</th>\n",
       "      <td>snack durian WANMEI freeze dried thailand</td>\n",
       "      <td>68.000</td>\n",
       "      <td>https://shopee.co.id/snack-durian-WANMEI-freez...</td>\n",
       "      <td>5 Terjual</td>\n",
       "      <td>KOTA SURABAYA</td>\n",
       "    </tr>\n",
       "    <tr>\n",
       "      <th>16</th>\n",
       "      <td>500Gr Kacang Thailand Pedas / CrispyJumbo Gros...</td>\n",
       "      <td>29.999</td>\n",
       "      <td>https://shopee.co.id/500Gr-Kacang-Thailand-Ped...</td>\n",
       "      <td>596 Terjual</td>\n",
       "      <td>KOTA JAKARTA BARAT</td>\n",
       "    </tr>\n",
       "    <tr>\n",
       "      <th>17</th>\n",
       "      <td>MAKANAN / SNACK THAILAND / JUHI SEAFOOD / AOI ...</td>\n",
       "      <td>107.100</td>\n",
       "      <td>https://shopee.co.id/MAKANAN-SNACK-THAILAND-JU...</td>\n",
       "      <td>None</td>\n",
       "      <td>KOTA BANDUNG</td>\n",
       "    </tr>\n",
       "    <tr>\n",
       "      <th>18</th>\n",
       "      <td>LAYS THAILAND MEDIUM SIZE SNACK THAI SNACK ORI...</td>\n",
       "      <td>26.500</td>\n",
       "      <td>https://shopee.co.id/LAYS-THAILAND-MEDIUM-SIZE...</td>\n",
       "      <td>153 Terjual</td>\n",
       "      <td>KOTA TANGERANG SELATAN</td>\n",
       "    </tr>\n",
       "    <tr>\n",
       "      <th>19</th>\n",
       "      <td>TERMURAH Snack Jiso Tomat Halal/ Snack Thailan...</td>\n",
       "      <td>10.000</td>\n",
       "      <td>https://shopee.co.id/TERMURAH-Snack-Jiso-Tomat...</td>\n",
       "      <td>2 Terjual</td>\n",
       "      <td>KOTA BANDUNG</td>\n",
       "    </tr>\n",
       "    <tr>\n",
       "      <th>20</th>\n",
       "      <td>(halal)snack durien asli thailand brand Ff(jis...</td>\n",
       "      <td>11.999</td>\n",
       "      <td>https://shopee.co.id/(halal)snack-durien-asli-...</td>\n",
       "      <td>319 Terjual</td>\n",
       "      <td>KOTA JAKARTA BARAT</td>\n",
       "    </tr>\n",
       "    <tr>\n",
       "      <th>21</th>\n",
       "      <td>new crispy durian montong thailand</td>\n",
       "      <td>29.999</td>\n",
       "      <td>https://shopee.co.id/new-crispy-durian-montong...</td>\n",
       "      <td>276 Terjual</td>\n",
       "      <td>KOTA JAKARTA BARAT</td>\n",
       "    </tr>\n",
       "    <tr>\n",
       "      <th>22</th>\n",
       "      <td>(HALAL)LAYS ORI THAILAND 11/14g</td>\n",
       "      <td>9.900</td>\n",
       "      <td>https://shopee.co.id/(HALAL)LAYS-ORI-THAILAND-...</td>\n",
       "      <td>774 Terjual</td>\n",
       "      <td>KOTA JAKARTA BARAT</td>\n",
       "    </tr>\n",
       "    <tr>\n",
       "      <th>23</th>\n",
       "      <td>Wan Mei JackFruit/Nangka Dried/ Snack Thailand</td>\n",
       "      <td>35.000</td>\n",
       "      <td>https://shopee.co.id/Wan-Mei-JackFruit-Nangka-...</td>\n",
       "      <td>209 Terjual</td>\n",
       "      <td>KOTA JAKARTA BARAT</td>\n",
       "    </tr>\n",
       "    <tr>\n",
       "      <th>24</th>\n",
       "      <td>Snack Kerupuk Udang Thailand Bangkok</td>\n",
       "      <td>31.999</td>\n",
       "      <td>https://shopee.co.id/Snack-Kerupuk-Udang-Thail...</td>\n",
       "      <td>195 Terjual</td>\n",
       "      <td>KOTA JAKARTA BARAT</td>\n",
       "    </tr>\n",
       "    <tr>\n",
       "      <th>25</th>\n",
       "      <td>crispy fish thailand snack kerupuk ikan tae ng...</td>\n",
       "      <td>53.888</td>\n",
       "      <td>https://shopee.co.id/crispy-fish-thailand-snac...</td>\n",
       "      <td>353 Terjual</td>\n",
       "      <td>KOTA JAKARTA BARAT</td>\n",
       "    </tr>\n",
       "    <tr>\n",
       "      <th>26</th>\n",
       "      <td>CHAO SUA CRISPY PORK BULAT THAILAND 30 GR</td>\n",
       "      <td>32.000</td>\n",
       "      <td>https://shopee.co.id/CHAO-SUA-CRISPY-PORK-BULA...</td>\n",
       "      <td>132 Terjual</td>\n",
       "      <td>KOTA TANGERANG SELATAN</td>\n",
       "    </tr>\n",
       "    <tr>\n",
       "      <th>27</th>\n",
       "      <td>crispy pork stick brand chao sua asli thailand...</td>\n",
       "      <td>31.000</td>\n",
       "      <td>https://shopee.co.id/crispy-pork-stick-brand-c...</td>\n",
       "      <td>249 Terjual</td>\n",
       "      <td>KOTA JAKARTA BARAT</td>\n",
       "    </tr>\n",
       "    <tr>\n",
       "      <th>28</th>\n",
       "      <td>Crispy Pork Chao Sua Snack Thailand</td>\n",
       "      <td>90.500</td>\n",
       "      <td>https://shopee.co.id/Crispy-Pork-Chao-Sua-Snac...</td>\n",
       "      <td>109 Terjual</td>\n",
       "      <td>KOTA TANGERANG SELATAN</td>\n",
       "    </tr>\n",
       "    <tr>\n",
       "      <th>29</th>\n",
       "      <td>Lays Thailand Snack Import Thailand HALAL Bang...</td>\n",
       "      <td>7.500</td>\n",
       "      <td>https://shopee.co.id/Lays-Thailand-Snack-Impor...</td>\n",
       "      <td>31 Terjual</td>\n",
       "      <td>KOTA MEDAN</td>\n",
       "    </tr>\n",
       "    <tr>\n",
       "      <th>30</th>\n",
       "      <td>Juhi Kering Bento Squid Snack Thailand Hot and...</td>\n",
       "      <td>5.000</td>\n",
       "      <td>https://shopee.co.id/Juhi-Kering-Bento-Squid-S...</td>\n",
       "      <td>6,2RB Terjual</td>\n",
       "      <td>KOTA JAKARTA BARAT</td>\n",
       "    </tr>\n",
       "    <tr>\n",
       "      <th>31</th>\n",
       "      <td>naraya snack muruku 270g impor malaysia</td>\n",
       "      <td>39.500</td>\n",
       "      <td>https://shopee.co.id/naraya-snack-muruku-270g-...</td>\n",
       "      <td>16 Terjual</td>\n",
       "      <td>KOTA MEDAN</td>\n",
       "    </tr>\n",
       "    <tr>\n",
       "      <th>32</th>\n",
       "      <td>JUHI BENTO THAILAND / SNACK THAILAND</td>\n",
       "      <td>6.850</td>\n",
       "      <td>https://shopee.co.id/JUHI-BENTO-THAILAND-SNACK...</td>\n",
       "      <td>359 Terjual</td>\n",
       "      <td>KAB. LUMAJANG</td>\n",
       "    </tr>\n",
       "    <tr>\n",
       "      <th>33</th>\n",
       "      <td>SNACK THAILAND BENTO SQUID SEAFOOD SNACK 4g IS...</td>\n",
       "      <td>50.000</td>\n",
       "      <td>https://shopee.co.id/SNACK-THAILAND-BENTO-SQUI...</td>\n",
       "      <td>135 Terjual</td>\n",
       "      <td>KOTA MEDAN</td>\n",
       "    </tr>\n",
       "    <tr>\n",
       "      <th>34</th>\n",
       "      <td>snack jiso 58gr thailand HALAL</td>\n",
       "      <td>32.900</td>\n",
       "      <td>https://shopee.co.id/snack-jiso-58gr-thailand-...</td>\n",
       "      <td>1RB Terjual</td>\n",
       "      <td>KOTA JAKARTA BARAT</td>\n",
       "    </tr>\n",
       "    <tr>\n",
       "      <th>35</th>\n",
       "      <td>Cemilan Snack Thailand Bangkok Dorkbua Lotus</td>\n",
       "      <td>32.888</td>\n",
       "      <td>https://shopee.co.id/Cemilan-Snack-Thailand-Ba...</td>\n",
       "      <td>1,2RB Terjual</td>\n",
       "      <td>KOTA JAKARTA UTARA</td>\n",
       "    </tr>\n",
       "    <tr>\n",
       "      <th>36</th>\n",
       "      <td>DORKBUA x BENTO PAHA AYAM SNACK THAILAND 80gr</td>\n",
       "      <td>35.000</td>\n",
       "      <td>https://shopee.co.id/DORKBUA-x-BENTO-PAHA-AYAM...</td>\n",
       "      <td>71 Terjual</td>\n",
       "      <td>KOTA MEDAN</td>\n",
       "    </tr>\n",
       "    <tr>\n",
       "      <th>37</th>\n",
       "      <td>Dorkbua Lotus Snack Paha Ayam Thailand Cemilan...</td>\n",
       "      <td>18.998</td>\n",
       "      <td>https://shopee.co.id/Dorkbua-Lotus-Snack-Paha-...</td>\n",
       "      <td>837 Terjual</td>\n",
       "      <td>KOTA JAKARTA BARAT</td>\n",
       "    </tr>\n",
       "    <tr>\n",
       "      <th>38</th>\n",
       "      <td>Snack Paha Ayam Thailand Bangkok</td>\n",
       "      <td>14.500</td>\n",
       "      <td>https://shopee.co.id/Snack-Paha-Ayam-Thailand-...</td>\n",
       "      <td>51 Terjual</td>\n",
       "      <td>KOTA MEDAN</td>\n",
       "    </tr>\n",
       "    <tr>\n",
       "      <th>39</th>\n",
       "      <td>Tasto Inara Signature Salted Egg Chips Thailand</td>\n",
       "      <td>27.999</td>\n",
       "      <td>https://shopee.co.id/Tasto-Inara-Signature-Sal...</td>\n",
       "      <td>None</td>\n",
       "      <td>KOTA BEKASI</td>\n",
       "    </tr>\n",
       "    <tr>\n",
       "      <th>40</th>\n",
       "      <td>BENTO SQUID SEAFOOD SNACK THAILAND HALAL!!</td>\n",
       "      <td>16.500</td>\n",
       "      <td>https://shopee.co.id/BENTO-SQUID-SEAFOOD-SNACK...</td>\n",
       "      <td>950 Terjual</td>\n",
       "      <td>KOTA MEDAN</td>\n",
       "    </tr>\n",
       "    <tr>\n",
       "      <th>41</th>\n",
       "      <td>READY!!!FF Stick Crispy Snack Tomato Flavour/C...</td>\n",
       "      <td>29.500</td>\n",
       "      <td>https://shopee.co.id/READY!!!FF-Stick-Crispy-S...</td>\n",
       "      <td>1RB Terjual</td>\n",
       "      <td>KOTA JAKARTA BARAT</td>\n",
       "    </tr>\n",
       "    <tr>\n",
       "      <th>42</th>\n",
       "      <td>Tomato Crackers Snack Jisoo Thailand Halal 18g...</td>\n",
       "      <td>28.000</td>\n",
       "      <td>https://shopee.co.id/Tomato-Crackers-Snack-Jis...</td>\n",
       "      <td>213 Terjual</td>\n",
       "      <td>KAB. BEKASI</td>\n",
       "    </tr>\n",
       "    <tr>\n",
       "      <th>43</th>\n",
       "      <td>Juhi Bento Squid Thailand 4 gram Snack Thailand</td>\n",
       "      <td>5.280</td>\n",
       "      <td>https://shopee.co.id/Juhi-Bento-Squid-Thailand...</td>\n",
       "      <td>42 Terjual</td>\n",
       "      <td>KAB. SLEMAN</td>\n",
       "    </tr>\n",
       "    <tr>\n",
       "      <th>44</th>\n",
       "      <td>Keripik Durian Thailand Vacuum Freeze Dried</td>\n",
       "      <td>29.900</td>\n",
       "      <td>https://shopee.co.id/Keripik-Durian-Thailand-V...</td>\n",
       "      <td>88 Terjual</td>\n",
       "      <td>KAB. BANDUNG</td>\n",
       "    </tr>\n",
       "    <tr>\n",
       "      <th>45</th>\n",
       "      <td>Snack lotus ayam Thailand 15gr</td>\n",
       "      <td>10.900</td>\n",
       "      <td>https://shopee.co.id/Snack-lotus-ayam-Thailand...</td>\n",
       "      <td>647 Terjual</td>\n",
       "      <td>KOTA JAKARTA BARAT</td>\n",
       "    </tr>\n",
       "    <tr>\n",
       "      <th>46</th>\n",
       "      <td>Chao Sua Rice Cracker With Pork Floss Snack Th...</td>\n",
       "      <td>40.000</td>\n",
       "      <td>https://shopee.co.id/Chao-Sua-Rice-Cracker-Wit...</td>\n",
       "      <td>36 Terjual</td>\n",
       "      <td>KAB. BEKASI</td>\n",
       "    </tr>\n",
       "    <tr>\n",
       "      <th>47</th>\n",
       "      <td>Kripik kentang Lays Thailand 11gr</td>\n",
       "      <td>8.500</td>\n",
       "      <td>https://shopee.co.id/Kripik-kentang-Lays-Thail...</td>\n",
       "      <td>174 Terjual</td>\n",
       "      <td>KOTA JAKARTA BARAT</td>\n",
       "    </tr>\n",
       "    <tr>\n",
       "      <th>48</th>\n",
       "      <td>JUHI BENTO SQUID THAILAND 4 GRAM - SNACK CEMIL...</td>\n",
       "      <td>5.500</td>\n",
       "      <td>https://shopee.co.id/JUHI-BENTO-SQUID-THAILAND...</td>\n",
       "      <td>188 Terjual</td>\n",
       "      <td>KOTA SURABAYA</td>\n",
       "    </tr>\n",
       "    <tr>\n",
       "      <th>49</th>\n",
       "      <td>Dorkbua Lotus Stick Biscuit Mala Flavour ori T...</td>\n",
       "      <td>37.500</td>\n",
       "      <td>https://shopee.co.id/Dorkbua-Lotus-Stick-Biscu...</td>\n",
       "      <td>17 Terjual</td>\n",
       "      <td>KOTA BANDUNG</td>\n",
       "    </tr>\n",
       "    <tr>\n",
       "      <th>50</th>\n",
       "      <td>HALAL BAKER SNACK CHEESE FLAVOUR THAILAND</td>\n",
       "      <td>10.900</td>\n",
       "      <td>https://shopee.co.id/HALAL-BAKER-SNACK-CHEESE-...</td>\n",
       "      <td>106 Terjual</td>\n",
       "      <td>KOTA JAKARTA BARAT</td>\n",
       "    </tr>\n",
       "    <tr>\n",
       "      <th>51</th>\n",
       "      <td>SNACK CHIKI CRACKER TOMATO JISOO ORIGINAL FROM...</td>\n",
       "      <td>35.000</td>\n",
       "      <td>https://shopee.co.id/SNACK-CHIKI-CRACKER-TOMAT...</td>\n",
       "      <td>53 Terjual</td>\n",
       "      <td>KOTA BANDUNG</td>\n",
       "    </tr>\n",
       "    <tr>\n",
       "      <th>52</th>\n",
       "      <td>Lays Potato Chips 12g/pcs/snack Thailand/ciki ...</td>\n",
       "      <td>8.450</td>\n",
       "      <td>https://shopee.co.id/Lays-Potato-Chips-12g-pcs...</td>\n",
       "      <td>445 Terjual</td>\n",
       "      <td>KOTA JAKARTA BARAT</td>\n",
       "    </tr>\n",
       "    <tr>\n",
       "      <th>53</th>\n",
       "      <td>Snack Dozo Bangkok Thailand 11gr</td>\n",
       "      <td>7.499</td>\n",
       "      <td>https://shopee.co.id/Snack-Dozo-Bangkok-Thaila...</td>\n",
       "      <td>224 Terjual</td>\n",
       "      <td>KOTA JAKARTA BARAT</td>\n",
       "    </tr>\n",
       "    <tr>\n",
       "      <th>54</th>\n",
       "      <td>Snack Jisoo Blackpink Tomat HALAL Tomato Crack...</td>\n",
       "      <td>30.000</td>\n",
       "      <td>https://shopee.co.id/Snack-Jisoo-Blackpink-Tom...</td>\n",
       "      <td>17 Terjual</td>\n",
       "      <td>KOTA MEDAN</td>\n",
       "    </tr>\n",
       "    <tr>\n",
       "      <th>55</th>\n",
       "      <td>Juhi Bento Thailand Seafood Snack Sweet &amp; Spic...</td>\n",
       "      <td>17.000</td>\n",
       "      <td>https://shopee.co.id/Juhi-Bento-Thailand-Seafo...</td>\n",
       "      <td>1RB Terjual</td>\n",
       "      <td>KOTA JAKARTA BARAT</td>\n",
       "    </tr>\n",
       "    <tr>\n",
       "      <th>56</th>\n",
       "      <td>Monthong Durian Chips ~ Asli Thailand</td>\n",
       "      <td>189.000</td>\n",
       "      <td>https://shopee.co.id/Monthong-Durian-Chips-~-A...</td>\n",
       "      <td>52 Terjual</td>\n",
       "      <td>KOTA SURABAYA</td>\n",
       "    </tr>\n",
       "    <tr>\n",
       "      <th>57</th>\n",
       "      <td>SNACK THAILAND BENTO SEAFOOD 18 GRAM</td>\n",
       "      <td>16.500</td>\n",
       "      <td>https://shopee.co.id/SNACK-THAILAND-BENTO-SEAF...</td>\n",
       "      <td>88 Terjual</td>\n",
       "      <td>KOTA BANDUNG</td>\n",
       "    </tr>\n",
       "    <tr>\n",
       "      <th>58</th>\n",
       "      <td>Dried Manggo 100gr dry mango thailand GreenVil...</td>\n",
       "      <td>54.000</td>\n",
       "      <td>https://shopee.co.id/Dried-Manggo-100gr-dry-ma...</td>\n",
       "      <td>423 Terjual</td>\n",
       "      <td>KOTA JAKARTA UTARA</td>\n",
       "    </tr>\n",
       "    <tr>\n",
       "      <th>59</th>\n",
       "      <td>VFOODS - SEMUA VARIAN MIX BISCUIT STICK SNACK ...</td>\n",
       "      <td>6.988</td>\n",
       "      <td>https://shopee.co.id/VFOODS-SEMUA-VARIAN-MIX-B...</td>\n",
       "      <td>3,4RB Terjual</td>\n",
       "      <td>KOTA JAKARTA UTARA</td>\n",
       "    </tr>\n",
       "  </tbody>\n",
       "</table>\n",
       "</div>"
      ],
      "text/plain": [
       "                                                Judul    Harga  \\\n",
       "0   Snack Cemilan Makanan Kering Wan Mei Durian Va...  124.000   \n",
       "1            salad thailand | Som tam | Momby Kitchen  185.000   \n",
       "2   ready HALAL Wan Mei Durian Vacuum Freeze Dried...   19.090   \n",
       "3    Candy Fruit/Permen Buah/Snack Thailand/Buah Buah   89.500   \n",
       "4   READY STOK MIE THAILAND Maggi Siam Serda Insta...    9.792   \n",
       "5   READY STOCK HALAL Mie Instan Merk Serda Rasa T...   10.999   \n",
       "6   Makanan HALAL Wan Mei Durian Vacuum Freeze Dri...  125.550   \n",
       "7   HALAL JUHI BENTO SQUID THAILAND 18GRAM SNACK C...   16.500   \n",
       "8   Makanan halal Beng-Beng Wafer White Chocolate ...    6.045   \n",
       "9   Kwetiaw / Makanan Import Thailand - PAPA Kua C...    8.500   \n",
       "10  READY STOCK Makanan halal Beng-Beng Wafer Whit...    6.045   \n",
       "11  racunimport.id - READY STOK HALAL JUHI BENTO S...   17.640   \n",
       "12  Rozocha Mango Durian Sticky Rice Dried Snack M...   94.999   \n",
       "13  Durian Wanmei 1pack isi 10pc HALAL/ Wan Mei Du...  190.000   \n",
       "14  Kacang Thailand 1KG / Kacang Bangkok Jumbo | O...   59.999   \n",
       "15          snack durian WANMEI freeze dried thailand   68.000   \n",
       "16  500Gr Kacang Thailand Pedas / CrispyJumbo Gros...   29.999   \n",
       "17  MAKANAN / SNACK THAILAND / JUHI SEAFOOD / AOI ...  107.100   \n",
       "18  LAYS THAILAND MEDIUM SIZE SNACK THAI SNACK ORI...   26.500   \n",
       "19  TERMURAH Snack Jiso Tomat Halal/ Snack Thailan...   10.000   \n",
       "20  (halal)snack durien asli thailand brand Ff(jis...   11.999   \n",
       "21                 new crispy durian montong thailand   29.999   \n",
       "22                    (HALAL)LAYS ORI THAILAND 11/14g    9.900   \n",
       "23     Wan Mei JackFruit/Nangka Dried/ Snack Thailand   35.000   \n",
       "24               Snack Kerupuk Udang Thailand Bangkok   31.999   \n",
       "25  crispy fish thailand snack kerupuk ikan tae ng...   53.888   \n",
       "26          CHAO SUA CRISPY PORK BULAT THAILAND 30 GR   32.000   \n",
       "27  crispy pork stick brand chao sua asli thailand...   31.000   \n",
       "28                Crispy Pork Chao Sua Snack Thailand   90.500   \n",
       "29  Lays Thailand Snack Import Thailand HALAL Bang...    7.500   \n",
       "30  Juhi Kering Bento Squid Snack Thailand Hot and...    5.000   \n",
       "31            naraya snack muruku 270g impor malaysia   39.500   \n",
       "32               JUHI BENTO THAILAND / SNACK THAILAND    6.850   \n",
       "33  SNACK THAILAND BENTO SQUID SEAFOOD SNACK 4g IS...   50.000   \n",
       "34                     snack jiso 58gr thailand HALAL   32.900   \n",
       "35       Cemilan Snack Thailand Bangkok Dorkbua Lotus   32.888   \n",
       "36      DORKBUA x BENTO PAHA AYAM SNACK THAILAND 80gr   35.000   \n",
       "37  Dorkbua Lotus Snack Paha Ayam Thailand Cemilan...   18.998   \n",
       "38                   Snack Paha Ayam Thailand Bangkok   14.500   \n",
       "39    Tasto Inara Signature Salted Egg Chips Thailand   27.999   \n",
       "40         BENTO SQUID SEAFOOD SNACK THAILAND HALAL!!   16.500   \n",
       "41  READY!!!FF Stick Crispy Snack Tomato Flavour/C...   29.500   \n",
       "42  Tomato Crackers Snack Jisoo Thailand Halal 18g...   28.000   \n",
       "43    Juhi Bento Squid Thailand 4 gram Snack Thailand    5.280   \n",
       "44        Keripik Durian Thailand Vacuum Freeze Dried   29.900   \n",
       "45                     Snack lotus ayam Thailand 15gr   10.900   \n",
       "46  Chao Sua Rice Cracker With Pork Floss Snack Th...   40.000   \n",
       "47                  Kripik kentang Lays Thailand 11gr    8.500   \n",
       "48  JUHI BENTO SQUID THAILAND 4 GRAM - SNACK CEMIL...    5.500   \n",
       "49  Dorkbua Lotus Stick Biscuit Mala Flavour ori T...   37.500   \n",
       "50          HALAL BAKER SNACK CHEESE FLAVOUR THAILAND   10.900   \n",
       "51  SNACK CHIKI CRACKER TOMATO JISOO ORIGINAL FROM...   35.000   \n",
       "52  Lays Potato Chips 12g/pcs/snack Thailand/ciki ...    8.450   \n",
       "53                   Snack Dozo Bangkok Thailand 11gr    7.499   \n",
       "54  Snack Jisoo Blackpink Tomat HALAL Tomato Crack...   30.000   \n",
       "55  Juhi Bento Thailand Seafood Snack Sweet & Spic...   17.000   \n",
       "56              Monthong Durian Chips ~ Asli Thailand  189.000   \n",
       "57               SNACK THAILAND BENTO SEAFOOD 18 GRAM   16.500   \n",
       "58  Dried Manggo 100gr dry mango thailand GreenVil...   54.000   \n",
       "59  VFOODS - SEMUA VARIAN MIX BISCUIT STICK SNACK ...    6.988   \n",
       "\n",
       "                                                 Link        Terjual  \\\n",
       "0   https://shopee.co.id/Snack-Cemilan-Makanan-Ker...     43 Terjual   \n",
       "1   https://shopee.co.id/salad-thailand-Som-tam-Mo...    775 Terjual   \n",
       "2   https://shopee.co.id/ready-HALAL-Wan-Mei-Duria...     25 Terjual   \n",
       "3   https://shopee.co.id/Candy-Fruit-Permen-Buah-S...    273 Terjual   \n",
       "4   https://shopee.co.id/READY-STOK-MIE-THAILAND-M...           None   \n",
       "5   https://shopee.co.id/READY-STOCK-HALAL-Mie-Ins...     61 Terjual   \n",
       "6   https://shopee.co.id/Makanan-HALAL-Wan-Mei-Dur...     26 Terjual   \n",
       "7   https://shopee.co.id/HALAL-JUHI-BENTO-SQUID-TH...    898 Terjual   \n",
       "8   https://shopee.co.id/Makanan-halal-Beng-Beng-W...     46 Terjual   \n",
       "9   https://shopee.co.id/Kwetiaw-Makanan-Import-Th...    461 Terjual   \n",
       "10  https://shopee.co.id/READY-STOCK-Makanan-halal...     17 Terjual   \n",
       "11  https://shopee.co.id/racunimport.id-READY-STOK...     21 Terjual   \n",
       "12  https://shopee.co.id/Rozocha-Mango-Durian-Stic...     33 Terjual   \n",
       "13  https://shopee.co.id/Durian-Wanmei-1pack-isi-1...     15 Terjual   \n",
       "14  https://shopee.co.id/Kacang-Thailand-1KG-Kacan...     82 Terjual   \n",
       "15  https://shopee.co.id/snack-durian-WANMEI-freez...      5 Terjual   \n",
       "16  https://shopee.co.id/500Gr-Kacang-Thailand-Ped...    596 Terjual   \n",
       "17  https://shopee.co.id/MAKANAN-SNACK-THAILAND-JU...           None   \n",
       "18  https://shopee.co.id/LAYS-THAILAND-MEDIUM-SIZE...    153 Terjual   \n",
       "19  https://shopee.co.id/TERMURAH-Snack-Jiso-Tomat...      2 Terjual   \n",
       "20  https://shopee.co.id/(halal)snack-durien-asli-...    319 Terjual   \n",
       "21  https://shopee.co.id/new-crispy-durian-montong...    276 Terjual   \n",
       "22  https://shopee.co.id/(HALAL)LAYS-ORI-THAILAND-...    774 Terjual   \n",
       "23  https://shopee.co.id/Wan-Mei-JackFruit-Nangka-...    209 Terjual   \n",
       "24  https://shopee.co.id/Snack-Kerupuk-Udang-Thail...    195 Terjual   \n",
       "25  https://shopee.co.id/crispy-fish-thailand-snac...    353 Terjual   \n",
       "26  https://shopee.co.id/CHAO-SUA-CRISPY-PORK-BULA...    132 Terjual   \n",
       "27  https://shopee.co.id/crispy-pork-stick-brand-c...    249 Terjual   \n",
       "28  https://shopee.co.id/Crispy-Pork-Chao-Sua-Snac...    109 Terjual   \n",
       "29  https://shopee.co.id/Lays-Thailand-Snack-Impor...     31 Terjual   \n",
       "30  https://shopee.co.id/Juhi-Kering-Bento-Squid-S...  6,2RB Terjual   \n",
       "31  https://shopee.co.id/naraya-snack-muruku-270g-...     16 Terjual   \n",
       "32  https://shopee.co.id/JUHI-BENTO-THAILAND-SNACK...    359 Terjual   \n",
       "33  https://shopee.co.id/SNACK-THAILAND-BENTO-SQUI...    135 Terjual   \n",
       "34  https://shopee.co.id/snack-jiso-58gr-thailand-...    1RB Terjual   \n",
       "35  https://shopee.co.id/Cemilan-Snack-Thailand-Ba...  1,2RB Terjual   \n",
       "36  https://shopee.co.id/DORKBUA-x-BENTO-PAHA-AYAM...     71 Terjual   \n",
       "37  https://shopee.co.id/Dorkbua-Lotus-Snack-Paha-...    837 Terjual   \n",
       "38  https://shopee.co.id/Snack-Paha-Ayam-Thailand-...     51 Terjual   \n",
       "39  https://shopee.co.id/Tasto-Inara-Signature-Sal...           None   \n",
       "40  https://shopee.co.id/BENTO-SQUID-SEAFOOD-SNACK...    950 Terjual   \n",
       "41  https://shopee.co.id/READY!!!FF-Stick-Crispy-S...    1RB Terjual   \n",
       "42  https://shopee.co.id/Tomato-Crackers-Snack-Jis...    213 Terjual   \n",
       "43  https://shopee.co.id/Juhi-Bento-Squid-Thailand...     42 Terjual   \n",
       "44  https://shopee.co.id/Keripik-Durian-Thailand-V...     88 Terjual   \n",
       "45  https://shopee.co.id/Snack-lotus-ayam-Thailand...    647 Terjual   \n",
       "46  https://shopee.co.id/Chao-Sua-Rice-Cracker-Wit...     36 Terjual   \n",
       "47  https://shopee.co.id/Kripik-kentang-Lays-Thail...    174 Terjual   \n",
       "48  https://shopee.co.id/JUHI-BENTO-SQUID-THAILAND...    188 Terjual   \n",
       "49  https://shopee.co.id/Dorkbua-Lotus-Stick-Biscu...     17 Terjual   \n",
       "50  https://shopee.co.id/HALAL-BAKER-SNACK-CHEESE-...    106 Terjual   \n",
       "51  https://shopee.co.id/SNACK-CHIKI-CRACKER-TOMAT...     53 Terjual   \n",
       "52  https://shopee.co.id/Lays-Potato-Chips-12g-pcs...    445 Terjual   \n",
       "53  https://shopee.co.id/Snack-Dozo-Bangkok-Thaila...    224 Terjual   \n",
       "54  https://shopee.co.id/Snack-Jisoo-Blackpink-Tom...     17 Terjual   \n",
       "55  https://shopee.co.id/Juhi-Bento-Thailand-Seafo...    1RB Terjual   \n",
       "56  https://shopee.co.id/Monthong-Durian-Chips-~-A...     52 Terjual   \n",
       "57  https://shopee.co.id/SNACK-THAILAND-BENTO-SEAF...     88 Terjual   \n",
       "58  https://shopee.co.id/Dried-Manggo-100gr-dry-ma...    423 Terjual   \n",
       "59  https://shopee.co.id/VFOODS-SEMUA-VARIAN-MIX-B...  3,4RB Terjual   \n",
       "\n",
       "                    Lokasi  \n",
       "0       KOTA JAKARTA BARAT  \n",
       "1           KAB. TANGERANG  \n",
       "2       KOTA JAKARTA BARAT  \n",
       "3       KOTA JAKARTA BARAT  \n",
       "4       KOTA JAKARTA BARAT  \n",
       "5       KOTA JAKARTA BARAT  \n",
       "6       KOTA JAKARTA BARAT  \n",
       "7       KOTA JAKARTA BARAT  \n",
       "8       KOTA JAKARTA BARAT  \n",
       "9       KOTA JAKARTA BARAT  \n",
       "10      KOTA JAKARTA BARAT  \n",
       "11      KOTA JAKARTA BARAT  \n",
       "12      KOTA JAKARTA BARAT  \n",
       "13      KOTA JAKARTA BARAT  \n",
       "14      KOTA JAKARTA BARAT  \n",
       "15           KOTA SURABAYA  \n",
       "16      KOTA JAKARTA BARAT  \n",
       "17            KOTA BANDUNG  \n",
       "18  KOTA TANGERANG SELATAN  \n",
       "19            KOTA BANDUNG  \n",
       "20      KOTA JAKARTA BARAT  \n",
       "21      KOTA JAKARTA BARAT  \n",
       "22      KOTA JAKARTA BARAT  \n",
       "23      KOTA JAKARTA BARAT  \n",
       "24      KOTA JAKARTA BARAT  \n",
       "25      KOTA JAKARTA BARAT  \n",
       "26  KOTA TANGERANG SELATAN  \n",
       "27      KOTA JAKARTA BARAT  \n",
       "28  KOTA TANGERANG SELATAN  \n",
       "29              KOTA MEDAN  \n",
       "30      KOTA JAKARTA BARAT  \n",
       "31              KOTA MEDAN  \n",
       "32           KAB. LUMAJANG  \n",
       "33              KOTA MEDAN  \n",
       "34      KOTA JAKARTA BARAT  \n",
       "35      KOTA JAKARTA UTARA  \n",
       "36              KOTA MEDAN  \n",
       "37      KOTA JAKARTA BARAT  \n",
       "38              KOTA MEDAN  \n",
       "39             KOTA BEKASI  \n",
       "40              KOTA MEDAN  \n",
       "41      KOTA JAKARTA BARAT  \n",
       "42             KAB. BEKASI  \n",
       "43             KAB. SLEMAN  \n",
       "44            KAB. BANDUNG  \n",
       "45      KOTA JAKARTA BARAT  \n",
       "46             KAB. BEKASI  \n",
       "47      KOTA JAKARTA BARAT  \n",
       "48           KOTA SURABAYA  \n",
       "49            KOTA BANDUNG  \n",
       "50      KOTA JAKARTA BARAT  \n",
       "51            KOTA BANDUNG  \n",
       "52      KOTA JAKARTA BARAT  \n",
       "53      KOTA JAKARTA BARAT  \n",
       "54              KOTA MEDAN  \n",
       "55      KOTA JAKARTA BARAT  \n",
       "56           KOTA SURABAYA  \n",
       "57            KOTA BANDUNG  \n",
       "58      KOTA JAKARTA UTARA  \n",
       "59      KOTA JAKARTA UTARA  "
      ]
     },
     "execution_count": 17,
     "metadata": {},
     "output_type": "execute_result"
    }
   ],
   "source": [
    "df_impor"
   ]
  },
  {
   "cell_type": "markdown",
   "id": "d2697d52-265d-4b9b-87eb-cdbf48eacbc8",
   "metadata": {
    "tags": []
   },
   "source": [
    "### Per Product"
   ]
  },
  {
   "cell_type": "code",
   "execution_count": 27,
   "id": "d7e49b64-ff5a-40ea-86ba-86d8953f8f1c",
   "metadata": {
    "tags": []
   },
   "outputs": [],
   "source": [
    "links = df_all[\"link\"].values"
   ]
  },
  {
   "cell_type": "code",
   "execution_count": 28,
   "id": "8c3785e2-9d24-44cb-96b6-45f26d7a8dc2",
   "metadata": {
    "collapsed": true,
    "jupyter": {
     "outputs_hidden": true
    },
    "tags": []
   },
   "outputs": [
    {
     "data": {
      "text/plain": [
       "array(['https://shopee.co.id/Wan-Mei-Durian-Vacuum-Freeze-Dried-1-pcs-Snack-Thailand-i.390628623.23527267503?sp_atk=53427839-8c59-43a9-91cc-3435a5c0c443&xptdk=53427839-8c59-43a9-91cc-3435a5c0c443',\n",
       "       'https://shopee.co.id/ready-stok-mie-serda-tom-klong-mie-halal-thailand-tomyum-ikan-Maggi-Siam-Serda-Instant-Noodle-Thailand-i.6692675.23187103560?sp_atk=89766923-0453-452c-95a6-a5b778e6e7bf&xptdk=89766923-0453-452c-95a6-a5b778e6e7bf',\n",
       "       'https://shopee.co.id/TERMURAH-Snack-Jiso-Tomat-Halal-Snack-Thailand-13gr-i.514272091.25501049415?sp_atk=f569e610-a083-4395-b874-52fd28ef229d&xptdk=f569e610-a083-4395-b874-52fd28ef229d',\n",
       "       'https://shopee.co.id/KERIPIK-BUAH-THAILAND-FREEZE-DRIED-FRUIT-SEHAT-HALAL-i.516692212.24404181378?sp_atk=cc3d8319-addc-40ff-953b-18d2d45d7fe8&xptdk=cc3d8319-addc-40ff-953b-18d2d45d7fe8',\n",
       "       'https://shopee.co.id/juhi-jiu-ng-si-180g-import-malaysia-i.34815318.16888307499?sp_atk=10ee3407-6582-4e46-8157-dd3d81a046fe&xptdk=10ee3407-6582-4e46-8157-dd3d81a046fe',\n",
       "       'https://shopee.co.id/ready-HALAL-Wan-Mei-Durian-Vacuum-Freeze-Dried-4gr-Snack-Thailand-Makanan-Siap-Saji-Snack-durian-Thailand-import-bkk-i.1074218030.18393089733?sp_atk=ac6db0c3-c4bd-44e3-bb5d-6937f3c387a8&xptdk=ac6db0c3-c4bd-44e3-bb5d-6937f3c387a8',\n",
       "       'https://shopee.co.id/ROYAL-FAMILY-MOCHI-TAIWAN-STRAWBERRY-MATCHA-TARO-MILK-RED-BEAN-BUBBLE-MILK-TEA-MOCHI-SNACK-MAKANAN-MINUMAN-IMPOR-MALAYSIA-PRODUK-PRODUCT-TAIWAN-i.34546648.14091206156?sp_atk=2b4d976c-e7f6-4922-a8e4-c53627b8d697&xptdk=2b4d976c-e7f6-4922-a8e4-c53627b8d697',\n",
       "       'https://shopee.co.id/racunimport.id-READY-STOK-HALAL-JUHI-BENTO-SQUID-THAILAND-20-GRAM-SNACK-CEMILAN-CUMI-INSTANT-SWEET-SPICY-MAKANAN-SIAP-SAJI-i.1074218030.19795095711?sp_atk=76a37a08-981e-4543-8469-40a113817bed&xptdk=76a37a08-981e-4543-8469-40a113817bed',\n",
       "       'https://shopee.co.id/HALAL-JUHI-BENTO-SQUID-THAILAND-18GRAM-SNACK-CEMILAN-CUMI-INSTANT-SWEET-SPICY-CEMILAN-INSTAN-i.6693348.19383767291?sp_atk=d42082df-3fcb-4b20-bfa9-aff41469c585&xptdk=d42082df-3fcb-4b20-bfa9-aff41469c585',\n",
       "       'https://shopee.co.id/Candy-Fruit-Permen-Buah-Snack-Thailand-Buah-Buah-i.390628623.16593800527?sp_atk=9badc599-aca9-469b-a152-ddb8fb64ac2b&xptdk=9badc599-aca9-469b-a152-ddb8fb64ac2b',\n",
       "       'https://shopee.co.id/Beryls-Chocolate-Coklat-Durian-Import-Malaysia-Snack-Import-Makanan-Import-i.156266096.22538430057?sp_atk=7ca2be53-b1aa-4d61-aba5-ff12689be2f7&xptdk=7ca2be53-b1aa-4d61-aba5-ff12689be2f7',\n",
       "       'https://shopee.co.id/Snack-Cemilan-Makanan-Kering-Wan-Mei-Durian-Vacuum-Freeze-Dried-Snack-Thailand-Asli-i.1067640042.22381064806?sp_atk=a7d48b57-70f1-4eb9-b9d1-3eff8c165a32&xptdk=a7d48b57-70f1-4eb9-b9d1-3eff8c165a32',\n",
       "       'https://shopee.co.id/Wan-Mei-Durian-Vacuum-Freeze-Dried-Snack-Thailand-1-pcs-6-pcs-i.73995726.23877999802?sp_atk=3c62feb9-49c6-4015-b8e8-b0e6871331cc&xptdk=3c62feb9-49c6-4015-b8e8-b0e6871331cc',\n",
       "       'https://shopee.co.id/Durian-Wanmei-1pack-isi-10pc-HALAL-Wan-Mei-Durian-Vacuum-Freeze-Dried-Snack-Thailand-Makanan-Instan-i.1074218030.24800852902?sp_atk=746f8a5a-0f0b-4609-a49d-2944f58a90b4&xptdk=746f8a5a-0f0b-4609-a49d-2944f58a90b4',\n",
       "       'https://shopee.co.id/Makanan-Import-Gits-Jalebi-100gr-Makanan-India-i.354571.77614227?sp_atk=6a1efcc6-024a-46c6-8876-0422abeef0ac&xptdk=6a1efcc6-024a-46c6-8876-0422abeef0ac',\n",
       "       'https://shopee.co.id/HALAL-Wan-Mei-Durian-Vacuum-Freeze-Dried-Snack-Thailand-Makanan-Instan-i.304232155.22979132733?sp_atk=54b1bef9-8896-4877-a378-f633aec9b36c&xptdk=54b1bef9-8896-4877-a378-f633aec9b36c',\n",
       "       'https://shopee.co.id/Makanan-halal-Beng-Beng-Wafer-White-Chocolate-1-pcs-Snack-Thailand-i.6693348.10099868044?sp_atk=7b825404-a173-46ee-b87c-e5f66d0e25f6&xptdk=7b825404-a173-46ee-b87c-e5f66d0e25f6',\n",
       "       'https://shopee.co.id/salad-thailand-Som-tam-Momby-Kitchen-i.189392580.20589696864?sp_atk=f1b56a19-511a-4fed-bbf9-b36f0f5def4b&xptdk=f1b56a19-511a-4fed-bbf9-b36f0f5def4b',\n",
       "       'https://shopee.co.id/Rozocha-Mango-Durian-Sticky-Rice-Dried-Snack-Makanan-Dorkbua-Thailand-i.156266096.23176109793?sp_atk=c3b28053-e7f9-43e6-8fd3-837931c41f30&xptdk=c3b28053-e7f9-43e6-8fd3-837931c41f30',\n",
       "       'https://shopee.co.id/READY-STOK-HALAL-JUHI-BENTO-SQUID-THAILAND-20-GRAM-SNACK-CEMILAN-CUMI-INSTANT-SWEET-SPICY-MAKANAN-SIAP-SAJI-i.6692675.22453639256?sp_atk=f81cdfef-267d-46c1-83d2-2e009c72aae9&xptdk=f81cdfef-267d-46c1-83d2-2e009c72aae9',\n",
       "       'https://shopee.co.id/READY-STOCK-Makanan-halal-Beng-Beng-Wafer-White-Chocolate-1-pcs-Snack-Thailand-i.6703131.14799424117?sp_atk=cc7e9588-0d9a-42cd-a310-3297e6e51ee0&xptdk=cc7e9588-0d9a-42cd-a310-3297e6e51ee0',\n",
       "       'https://shopee.co.id/Kwetiaw-Makanan-Import-Thailand-PAPA-Kua-Chap-Clear-Soup-50gr-Halal-i.112430898.7901948621?sp_atk=b299ab81-1c7a-44a1-950e-79988ac6717e&xptdk=b299ab81-1c7a-44a1-950e-79988ac6717e',\n",
       "       'https://shopee.co.id/MAKANAN-SNACK-THAILAND-JUHI-SEAFOOD-AOI-ORIGINAL-THAILAND-90-GR-i.8536881.22558141738?sp_atk=c1bd9b85-18be-4181-aab4-baa220fc6ab4&xptdk=c1bd9b85-18be-4181-aab4-baa220fc6ab4',\n",
       "       'https://shopee.co.id/500Gr-Kacang-Thailand-Pedas-CrispyJumbo-Grosir-Murah-2-Varian-Oui-Snack-i.241041878.5826611005?sp_atk=d318ea2d-314e-417f-9b5d-f77a6c926028&xptdk=d318ea2d-314e-417f-9b5d-f77a6c926028',\n",
       "       'https://shopee.co.id/HALAL-JUHI-CUMI-BENTO-18-gr-ORI-THAILAND-(BIG-SIZE)-i.993383565.22662941594?sp_atk=3cbe7fb7-ffc3-40c3-88f1-3dd620f6388f&xptdk=3cbe7fb7-ffc3-40c3-88f1-3dd620f6388f',\n",
       "       'https://shopee.co.id/Dried-Mango-Thailand-Soft-dry-manggo-bangkok-thai-Wan-Mei-170gram-pack-i.44350973.24200392132?sp_atk=b07fab70-a179-40bc-9607-159139a371fc&xptdk=b07fab70-a179-40bc-9607-159139a371fc',\n",
       "       'https://shopee.co.id/lays-original-thailand-44-48-gr-i.993383565.19286549527?sp_atk=dc8f83a6-c246-4a7c-a737-17ec0a4f471f&xptdk=dc8f83a6-c246-4a7c-a737-17ec0a4f471f',\n",
       "       'https://shopee.co.id/READYSTOCK-SNACK-JUHI-FISH-AOI-THAILAND-BANGKOK-i.6447648.18986041311?sp_atk=5e45a333-6a5f-4995-8372-eb5e3b52674c&xptdk=5e45a333-6a5f-4995-8372-eb5e3b52674c',\n",
       "       'https://shopee.co.id/(HALAL)LAYS-ORI-THAILAND-11-14g-i.993383565.18985394249?sp_atk=0449535c-d670-4601-b688-56919ad0ccbb&xptdk=0449535c-d670-4601-b688-56919ad0ccbb',\n",
       "       'https://shopee.co.id/Fruit-OnTheGo-Soft-dried-mango-ala-thailand-i.56924046.24952568704?sp_atk=6bd31ebe-5d39-44c1-a8d7-1e7b5637120e&xptdk=6bd31ebe-5d39-44c1-a8d7-1e7b5637120e',\n",
       "       'https://shopee.co.id/READY!!!Wan-Mei-Durian-Vacuum-Freeze-Dried-isi-6-pcs-Snack-Thailand-i.390628623.21375899768?sp_atk=fa761829-62ed-4de5-99e1-3d5cbed36463&xptdk=fa761829-62ed-4de5-99e1-3d5cbed36463',\n",
       "       'https://shopee.co.id/Wan-Mei-Durian-Vacuum-Freeze-Dried-Snack-Thailand-i.582991152.22446243902?sp_atk=29d58984-eba8-48a6-80fe-1068cb63778b&xptdk=29d58984-eba8-48a6-80fe-1068cb63778b',\n",
       "       'https://shopee.co.id/Wan-Mei-Durian-Vacuum-Freeze-Dried-isi-10pcs-Snack-Thailand-i.390628623.23227222385?sp_atk=f87f0102-b491-4aee-9f1f-c071063fbaa9&xptdk=f87f0102-b491-4aee-9f1f-c071063fbaa9',\n",
       "       'https://shopee.co.id/Manisan-Mangga-Madu-Thailand-Mangga-Kering-150gr-Oui-Snack-i.241041878.5931334408?sp_atk=de6fd5ee-e398-4c3b-a9a1-1f554cf77dd9&xptdk=de6fd5ee-e398-4c3b-a9a1-1f554cf77dd9',\n",
       "       'https://shopee.co.id/⭐-SNACK-THAILAND-⭐-Juhi-Bento-Squid-Seafood-Cumi-HALAL-4gr-(-impor-import-)-i.894261330.12299273106?sp_atk=0c78f97c-b166-45ed-b1ae-e6e72be06105&xptdk=0c78f97c-b166-45ed-b1ae-e6e72be06105',\n",
       "       'https://shopee.co.id/Snack-Paha-Ayam-Thailand-Dorkbua-Lotus-15-gr-i.251179081.20361890642?sp_atk=815b78f0-ad3c-422d-a046-f9f204bcd19f&xptdk=815b78f0-ad3c-422d-a046-f9f204bcd19f',\n",
       "       'https://shopee.co.id/-CUCI-GUDANG-Wan-Mei-Durian-Vacuum-Freeze-Dried-1-pcs-Snack-Thailand-MURAH-BANGET!!!-i.970166609.17395455957?sp_atk=ca603f2d-3e36-4f85-8194-2579fbf44e81&xptdk=ca603f2d-3e36-4f85-8194-2579fbf44e81',\n",
       "       \"https://shopee.co.id/LAYS-LAY'S-THAILAND-BIG-PACK-POTATO-CHIPS-TRUFFLE-CHEESE-THAILAND-i.10880132.19689783225?sp_atk=cd54406e-c88d-43e7-b905-01e988f1e6be&xptdk=cd54406e-c88d-43e7-b905-01e988f1e6be\",\n",
       "       'https://shopee.co.id/URSNACKS-PAKET-HEMAT-BUNDLE-4-FREEZE-DRIED-KERIPIK-SEHAT-DURIAN-32gr-MANGO-32gr-STRAWBERRY-22gr-APPLE-22gr-BUAH-VAKUM-SEHAT-LOW-SUGAR-i.1053313079.23556673355?sp_atk=ee281b9f-a2bb-476b-b4e4-55559854a677&xptdk=ee281b9f-a2bb-476b-b4e4-55559854a677',\n",
       "       'https://shopee.co.id/KERIPIK-BUAH-DURIAN-THAILAND-FREEZE-DRIED-DURIAN-SEHAT-HALAL-i.241041878.21295568491?sp_atk=a7fa6e61-0400-4474-9a5e-6448d4339cfa&xptdk=a7fa6e61-0400-4474-9a5e-6448d4339cfa',\n",
       "       'https://shopee.co.id/Coklat-Imelda-Chocolate-Impor-Malaysia-Halal-i.5809856.14003771150?sp_atk=57dbd3b0-a737-451b-9723-e09fcad3e6c4&xptdk=57dbd3b0-a737-451b-9723-e09fcad3e6c4',\n",
       "       'https://shopee.co.id/new-crispy-durian-montong-thailand-i.993383565.20883118163?sp_atk=73ae012e-55fd-4544-9b0d-5138d5ee2345&xptdk=73ae012e-55fd-4544-9b0d-5138d5ee2345',\n",
       "       'https://shopee.co.id/58gr-snack-viral-thailand-tomat-snack-jisoo-snack-crispy-tomat-snack-thailand-i.189316004.19395811744?sp_atk=4278de9e-9abb-4077-bf5d-f82040c45f60&xptdk=4278de9e-9abb-4077-bf5d-f82040c45f60',\n",
       "       'https://shopee.co.id/Wan-Mei-Durian-Montong-Vacuum-Freeze-Dried-Snack-Thailand-Ecer-Satuan-i.201580700.22186304474?sp_atk=e3609f7e-f032-48f3-98b2-a19adedd9384&xptdk=e3609f7e-f032-48f3-98b2-a19adedd9384',\n",
       "       'https://shopee.co.id/Naraya-Snack-Snek-Muruku-Rasa-Ayam-Pedas-Spicy-Chiken-Fish-Ikan-Muruku-Snack-Otakk-ku-270gr-isi-30pcs-i.885462669.23162554626?sp_atk=dbbbaa6c-ff2f-4626-bf20-e7e4f62aa22c&xptdk=dbbbaa6c-ff2f-4626-bf20-e7e4f62aa22c',\n",
       "       'https://shopee.co.id/-SNACK-THAILAND-Juhi-Bento-Squid-Seafood-Cumi-HALAL-4gr-i.98443088.23456089045?sp_atk=a8e8a726-2540-41d0-8b36-50e41ff37d49&xptdk=a8e8a726-2540-41d0-8b36-50e41ff37d49',\n",
       "       'https://shopee.co.id/READY-Dorkbua-Lotus-Crispy-Crab-Stick-Tama-Snack-Thailand-30gr-i.6826797.24358451804?sp_atk=8b51d441-e341-4591-be48-3f9ff38a8008&xptdk=8b51d441-e341-4591-be48-3f9ff38a8008',\n",
       "       'https://shopee.co.id/JAYSTORE_83-Durian-Vacuum-Freeze-Wan-Mei-ORI-THAILAND-READY-STOCK-Pembelian-Perpack-i.86986895.23056834302?sp_atk=5be3400a-c781-42ea-8ae9-efe4d8d16711&xptdk=5be3400a-c781-42ea-8ae9-efe4d8d16711',\n",
       "       'https://shopee.co.id/Ready-HALAL-Mango-Dried-Thailand-Cemilan-Instan-i.530943737.24051696812?sp_atk=ad69f3a8-c468-4d8b-9b3d-0f6178dbb9f3&xptdk=ad69f3a8-c468-4d8b-9b3d-0f6178dbb9f3',\n",
       "       'https://shopee.co.id/(1-BUNGKUS)beng-beng-white-coconut-ori-thailand-(HALAL)-i.993383565.20494337859?sp_atk=5a5bc68f-a82e-41a6-bfed-81c259eca520&xptdk=5a5bc68f-a82e-41a6-bfed-81c259eca520',\n",
       "       'https://shopee.co.id/URSNACKS-PAKET-HEMAT-3-FREEZE-DRIED-KERIPIK-SEHAT-DURIAN-32gr-MANGO-32gr-APPLE-22gr-VAKUM-CEMILAN-DIET-i.1053313079.23656672583?sp_atk=7d2b76e3-17de-4dd9-8a60-6f03204f2ce5&xptdk=7d2b76e3-17de-4dd9-8a60-6f03204f2ce5',\n",
       "       'https://shopee.co.id/-MURAH-TATAWA-COOKIES-120G-BISKUIT-IMPORT-HALAL-TATAWA-MALAYSIA-TIRAMISU-CAPPUCINO-CHOCOLATE-STRAWBERRY-i.279856696.3158331165?sp_atk=71b4a56d-4d89-4798-abe0-e0eb50b678a9&xptdk=71b4a56d-4d89-4798-abe0-e0eb50b678a9',\n",
       "       'https://shopee.co.id/FREEZE-DRIED-DURIAN-THAILAND-KERIPIK-BUAH-DURIAN-SEHAT-HALAL-i.281054699.19486626395?sp_atk=53a605a6-0f61-4b9f-83a4-1983c70f30d2&xptdk=53a605a6-0f61-4b9f-83a4-1983c70f30d2',\n",
       "       'https://shopee.co.id/Dried-Manggo-Manisan-Mangga-Thailand-500g-gram-Halal-Ready-i.30912818.23145796308?sp_atk=372225a6-6725-4cfc-b792-3e9aeb88bde4&xptdk=372225a6-6725-4cfc-b792-3e9aeb88bde4',\n",
       "       'https://shopee.co.id/(HALAL)CRISPY-SALMON-SKIN(snack-kulit-salmon)thailand-i.993383565.19079336432?sp_atk=76ffa0c0-5e29-4c95-8ac9-d88db774c3dd&xptdk=76ffa0c0-5e29-4c95-8ac9-d88db774c3dd',\n",
       "       'https://shopee.co.id/Freeze-Dried-Durian-MINI-Vacuum-Premium-Wan-Mei-Buah-Kering-Snack-Cemilan-Thailand-i.763717536.25061601544?sp_atk=78d45003-e030-4534-834a-faed9301d8ff&xptdk=78d45003-e030-4534-834a-faed9301d8ff',\n",
       "       'https://shopee.co.id/durian-kering-dry-freeze-dried-duren-isi-montong-monthong-bungkus-camilan-snack-thailand-thai-vacuum-durian-viral-thailand-import-musang-king-manis-i.3939822.19771654547?sp_atk=792e484a-07ab-4b4a-bd20-7e4154cd2675&xptdk=792e484a-07ab-4b4a-bd20-7e4154cd2675',\n",
       "       'https://shopee.co.id/Sanghai-Wafer-Thailand-Coklat-Krim-Susu-Snack-Bangkok-i.201580700.19683463051?sp_atk=b6671252-1720-4bbf-b58f-ea1f5bca2b74&xptdk=b6671252-1720-4bbf-b58f-ea1f5bca2b74',\n",
       "       'https://shopee.co.id/LAYS-THAILAND-MEDIUM-SIZE-SNACK-THAI-SNACK-ORIGINAL-i.10880132.18581581405?sp_atk=933ab599-11b9-45d4-8328-9fc23f404322&xptdk=933ab599-11b9-45d4-8328-9fc23f404322',\n",
       "       'https://shopee.co.id/Wan-Mei-Durian-Vacuum-Freeze-Dried-1pack-isi-6pcs-Snack-Thailand-i.73995726.25256479551?sp_atk=596100a0-fc0e-4de9-9e86-cda7359d6431&xptdk=596100a0-fc0e-4de9-9e86-cda7359d6431'],\n",
       "      dtype=object)"
      ]
     },
     "execution_count": 28,
     "metadata": {},
     "output_type": "execute_result"
    }
   ],
   "source": [
    "links"
   ]
  },
  {
   "cell_type": "code",
   "execution_count": 76,
   "id": "9a4cf404-906d-4e48-b285-9ec5f462f059",
   "metadata": {
    "tags": []
   },
   "outputs": [],
   "source": [
    "from fake_useragent import UserAgent"
   ]
  },
  {
   "cell_type": "code",
   "execution_count": 123,
   "id": "00811046-72a2-4b21-b923-985845311e87",
   "metadata": {
    "tags": []
   },
   "outputs": [
    {
     "name": "stdout",
     "output_type": "stream",
     "text": [
      "Login required\n",
      "Error processing URL https://shopee.co.id/new-crispy-durian-montong-thailand-i.993383565.20883118163?sp_atk=336ab2f2-3fbd-47eb-8b1d-c4a9ff03bf69&xptdk=336ab2f2-3fbd-47eb-8b1d-c4a9ff03bf69: Message: \n",
      "\n",
      "Login required\n",
      "Error processing URL https://shopee.co.id/(1-BUNGKUS)beng-beng-white-coconut-ori-thailand-(HALAL)-i.993383565.20494337859?sp_atk=cbe65ab0-2723-43aa-9fee-7ea8f70c2b66&xptdk=cbe65ab0-2723-43aa-9fee-7ea8f70c2b66: Message: no such window: target window already closed\n",
      "from unknown error: web view not found\n",
      "  (Session info: chrome=121.0.6167.160)\n",
      "Stacktrace:\n",
      "0   undetected_chromedriver             0x0000000102a72168 undetected_chromedriver + 4673896\n",
      "1   undetected_chromedriver             0x0000000102a699c3 undetected_chromedriver + 4639171\n",
      "2   undetected_chromedriver             0x000000010265dfdd undetected_chromedriver + 397277\n",
      "3   undetected_chromedriver             0x0000000102634878 undetected_chromedriver + 227448\n",
      "4   undetected_chromedriver             0x00000001026d560d undetected_chromedriver + 886285\n",
      "5   undetected_chromedriver             0x00000001026eb119 undetected_chromedriver + 975129\n",
      "6   undetected_chromedriver             0x00000001026cc663 undetected_chromedriver + 849507\n",
      "7   undetected_chromedriver             0x000000010269c1cf undetected_chromedriver + 651727\n",
      "8   undetected_chromedriver             0x000000010269d1ae undetected_chromedriver + 655790\n",
      "9   undetected_chromedriver             0x0000000102a32380 undetected_chromedriver + 4412288\n",
      "10  undetected_chromedriver             0x0000000102a37798 undetected_chromedriver + 4433816\n",
      "11  undetected_chromedriver             0x0000000102a16d71 undetected_chromedriver + 4300145\n",
      "12  undetected_chromedriver             0x0000000102a384e6 undetected_chromedriver + 4437222\n",
      "13  undetected_chromedriver             0x0000000102a08d3c undetected_chromedriver + 4242748\n",
      "14  undetected_chromedriver             0x0000000102a58208 undetected_chromedriver + 4567560\n",
      "15  undetected_chromedriver             0x0000000102a583be undetected_chromedriver + 4567998\n",
      "16  undetected_chromedriver             0x0000000102a69603 undetected_chromedriver + 4638211\n",
      "17  libsystem_pthread.dylib             0x00007ff8162c54e1 _pthread_start + 125\n",
      "18  libsystem_pthread.dylib             0x00007ff8162c0f6b thread_start + 15\n",
      "\n",
      "Error processing URL https://shopee.co.id/Sanghai-Wafer-isi-10-ori-Thailand-i.3981456.23929204517?sp_atk=27ee4567-15ef-4464-8a78-9bdf612e7a0a&xptdk=27ee4567-15ef-4464-8a78-9bdf612e7a0a: Message: no such window: target window already closed\n",
      "from unknown error: web view not found\n",
      "  (Session info: chrome=121.0.6167.160)\n",
      "Stacktrace:\n",
      "0   undetected_chromedriver             0x0000000102a72168 undetected_chromedriver + 4673896\n",
      "1   undetected_chromedriver             0x0000000102a699c3 undetected_chromedriver + 4639171\n",
      "2   undetected_chromedriver             0x000000010265dfdd undetected_chromedriver + 397277\n",
      "3   undetected_chromedriver             0x0000000102634878 undetected_chromedriver + 227448\n",
      "4   undetected_chromedriver             0x00000001026d560d undetected_chromedriver + 886285\n",
      "5   undetected_chromedriver             0x00000001026eb119 undetected_chromedriver + 975129\n",
      "6   undetected_chromedriver             0x00000001026cc663 undetected_chromedriver + 849507\n",
      "7   undetected_chromedriver             0x000000010269c1cf undetected_chromedriver + 651727\n",
      "8   undetected_chromedriver             0x000000010269d1ae undetected_chromedriver + 655790\n",
      "9   undetected_chromedriver             0x0000000102a32380 undetected_chromedriver + 4412288\n",
      "10  undetected_chromedriver             0x0000000102a37798 undetected_chromedriver + 4433816\n",
      "11  undetected_chromedriver             0x0000000102a16d71 undetected_chromedriver + 4300145\n",
      "12  undetected_chromedriver             0x0000000102a384e6 undetected_chromedriver + 4437222\n",
      "13  undetected_chromedriver             0x0000000102a08d3c undetected_chromedriver + 4242748\n",
      "14  undetected_chromedriver             0x0000000102a58208 undetected_chromedriver + 4567560\n",
      "15  undetected_chromedriver             0x0000000102a583be undetected_chromedriver + 4567998\n",
      "16  undetected_chromedriver             0x0000000102a69603 undetected_chromedriver + 4638211\n",
      "17  libsystem_pthread.dylib             0x00007ff8162c54e1 _pthread_start + 125\n",
      "18  libsystem_pthread.dylib             0x00007ff8162c0f6b thread_start + 15\n",
      "\n"
     ]
    },
    {
     "ename": "KeyboardInterrupt",
     "evalue": "",
     "output_type": "error",
     "traceback": [
      "\u001b[0;31m---------------------------------------------------------------------------\u001b[0m",
      "\u001b[0;31mKeyboardInterrupt\u001b[0m                         Traceback (most recent call last)",
      "Cell \u001b[0;32mIn[123], line 13\u001b[0m\n\u001b[1;32m      9\u001b[0m driver \u001b[38;5;241m=\u001b[39m uc\u001b[38;5;241m.\u001b[39mChrome(\n\u001b[1;32m     10\u001b[0m     options\u001b[38;5;241m=\u001b[39moptions,\n\u001b[1;32m     11\u001b[0m )\n\u001b[1;32m     12\u001b[0m links \u001b[38;5;241m=\u001b[39m df_all[\u001b[38;5;124m\"\u001b[39m\u001b[38;5;124mlink\u001b[39m\u001b[38;5;124m\"\u001b[39m]\u001b[38;5;241m.\u001b[39mvalues\n\u001b[0;32m---> 13\u001b[0m df \u001b[38;5;241m=\u001b[39m search_detail_per_product(driver, base_url, links[:\u001b[38;5;241m10\u001b[39m], email, password)\n\u001b[1;32m     14\u001b[0m df_final \u001b[38;5;241m=\u001b[39m pd\u001b[38;5;241m.\u001b[39mmerge(df_all[:\u001b[38;5;241m10\u001b[39m], df, on\u001b[38;5;241m=\u001b[39m\u001b[38;5;124m'\u001b[39m\u001b[38;5;124mlink\u001b[39m\u001b[38;5;124m'\u001b[39m, how\u001b[38;5;241m=\u001b[39m\u001b[38;5;124m'\u001b[39m\u001b[38;5;124minner\u001b[39m\u001b[38;5;124m'\u001b[39m)\n\u001b[1;32m     16\u001b[0m driver\u001b[38;5;241m.\u001b[39mquit()\n",
      "Cell \u001b[0;32mIn[122], line 64\u001b[0m, in \u001b[0;36msearch_detail_per_product\u001b[0;34m(driver, base_url, links, email, password)\u001b[0m\n\u001b[1;32m     62\u001b[0m     seller_links\u001b[38;5;241m.\u001b[39mappend(seller_link)\n\u001b[1;32m     63\u001b[0m     reviews\u001b[38;5;241m.\u001b[39mappend(all_reviews)\n\u001b[0;32m---> 64\u001b[0m     delay_fast()\n\u001b[1;32m     66\u001b[0m \u001b[38;5;28;01mreturn\u001b[39;00m pd\u001b[38;5;241m.\u001b[39mDataFrame({\u001b[38;5;124m'\u001b[39m\u001b[38;5;124mseller\u001b[39m\u001b[38;5;124m'\u001b[39m:seller_names, \u001b[38;5;124m'\u001b[39m\u001b[38;5;124mseller_link\u001b[39m\u001b[38;5;124m'\u001b[39m:seller_links, \u001b[38;5;124m'\u001b[39m\u001b[38;5;124mdescription\u001b[39m\u001b[38;5;124m'\u001b[39m:descriptions, \u001b[38;5;124m'\u001b[39m\u001b[38;5;124mreview\u001b[39m\u001b[38;5;124m'\u001b[39m:reviews, \u001b[38;5;124m'\u001b[39m\u001b[38;5;124mlink\u001b[39m\u001b[38;5;124m'\u001b[39m: links})\n",
      "Cell \u001b[0;32mIn[81], line 5\u001b[0m, in \u001b[0;36mdelay_fast\u001b[0;34m()\u001b[0m\n\u001b[1;32m      3\u001b[0m additional_delay \u001b[38;5;241m=\u001b[39m random\u001b[38;5;241m.\u001b[39muniform(\u001b[38;5;241m-\u001b[39m\u001b[38;5;241m1\u001b[39m, \u001b[38;5;241m1\u001b[39m)\n\u001b[1;32m      4\u001b[0m total_delay \u001b[38;5;241m=\u001b[39m \u001b[38;5;28mmax\u001b[39m(\u001b[38;5;241m0.5\u001b[39m, base_delay \u001b[38;5;241m+\u001b[39m additional_delay)\n\u001b[0;32m----> 5\u001b[0m time\u001b[38;5;241m.\u001b[39msleep(total_delay)\n",
      "\u001b[0;31mKeyboardInterrupt\u001b[0m: "
     ]
    }
   ],
   "source": [
    "if __name__ == '__main__':\n",
    "    options = webdriver.ChromeOptions()\n",
    "    options.add_argument('proxy-server=200.174.198.955:8888')\n",
    "    \n",
    "    # ua = UserAgent()\n",
    "    # user_agent = ua.random\n",
    "    # options.add_argument(f'user-agent={user_agent}')  # Randomize user agent\n",
    "\n",
    "    driver = uc.Chrome(\n",
    "        options=options,\n",
    "    )\n",
    "    links = df_all[\"link\"].values\n",
    "    df = search_detail_per_product(driver, base_url, links[:10], email, password)\n",
    "    df_final = pd.merge(df_all[:10], df, on='link', how='inner')\n",
    "\n",
    "    driver.quit()"
   ]
  },
  {
   "cell_type": "code",
   "execution_count": 42,
   "id": "c19421ad-a6bb-485b-9026-f856a20575ea",
   "metadata": {
    "tags": []
   },
   "outputs": [
    {
     "data": {
      "text/html": [
       "<div>\n",
       "<style scoped>\n",
       "    .dataframe tbody tr th:only-of-type {\n",
       "        vertical-align: middle;\n",
       "    }\n",
       "\n",
       "    .dataframe tbody tr th {\n",
       "        vertical-align: top;\n",
       "    }\n",
       "\n",
       "    .dataframe thead th {\n",
       "        text-align: right;\n",
       "    }\n",
       "</style>\n",
       "<table border=\"1\" class=\"dataframe\">\n",
       "  <thead>\n",
       "    <tr style=\"text-align: right;\">\n",
       "      <th></th>\n",
       "      <th>seller</th>\n",
       "      <th>seller_link</th>\n",
       "      <th>description</th>\n",
       "      <th>review</th>\n",
       "      <th>link</th>\n",
       "    </tr>\n",
       "  </thead>\n",
       "  <tbody>\n",
       "    <tr>\n",
       "      <th>0</th>\n",
       "      <td>Shop_by.dira</td>\n",
       "      <td>https://shopee.co.id/shop_by.dira?categoryId=1...</td>\n",
       "      <td>Ready !!!\\n\\nBerlabel HALAL 🥰🙏🏻\\n\\n\\nWan Mei D...</td>\n",
       "      <td>Rasa:duren dan stobery\\nKualitas:bagus\\n\\nBoci...</td>\n",
       "      <td>https://shopee.co.id/Wan-Mei-Durian-Vacuum-Fre...</td>\n",
       "    </tr>\n",
       "    <tr>\n",
       "      <th>1</th>\n",
       "      <td>yuna_jun89</td>\n",
       "      <td>https://shopee.co.id/yuna_jun89?categoryId=100...</td>\n",
       "      <td>Product: Thailand Serda Instant Noodles Maggie...</td>\n",
       "      <td>Kualitas:bagus\\nRasa:enak\\n\\nAkhirnya datang j...</td>\n",
       "      <td>https://shopee.co.id/ready-stok-mie-serda-tom-...</td>\n",
       "    </tr>\n",
       "    <tr>\n",
       "      <th>2</th>\n",
       "      <td>Railshopp26</td>\n",
       "      <td>https://shopee.co.id/railshopp26?categoryId=10...</td>\n",
       "      <td>exp juni 2024\\n\\nharga untuk 1 pcs 13gr</td>\n",
       "      <td></td>\n",
       "      <td>https://shopee.co.id/TERMURAH-Snack-Jiso-Tomat...</td>\n",
       "    </tr>\n",
       "    <tr>\n",
       "      <th>3</th>\n",
       "      <td>duniasnack.</td>\n",
       "      <td>https://shopee.co.id/duniasnack.id?categoryId=...</td>\n",
       "      <td>BPOM RI ML 022927000900033\\n\\nBERSERTIFIKAT HA...</td>\n",
       "      <td>Rasa:asemmmm</td>\n",
       "      <td>https://shopee.co.id/KERIPIK-BUAH-THAILAND-FRE...</td>\n",
       "    </tr>\n",
       "    <tr>\n",
       "      <th>4</th>\n",
       "      <td>MIXMAXSHOPP</td>\n",
       "      <td>https://shopee.co.id/mixmaxshopp?categoryId=10...</td>\n",
       "      <td>juhi unaco / jiu ng import malaysia\\n\\nEXP OKT...</td>\n",
       "      <td>Rasa:enak\\nKualitas:bagus\\n\\nPengiriman cepat ...</td>\n",
       "      <td>https://shopee.co.id/juhi-jiu-ng-si-180g-impor...</td>\n",
       "    </tr>\n",
       "  </tbody>\n",
       "</table>\n",
       "</div>"
      ],
      "text/plain": [
       "         seller                                        seller_link  \\\n",
       "0  Shop_by.dira  https://shopee.co.id/shop_by.dira?categoryId=1...   \n",
       "1    yuna_jun89  https://shopee.co.id/yuna_jun89?categoryId=100...   \n",
       "2   Railshopp26  https://shopee.co.id/railshopp26?categoryId=10...   \n",
       "3   duniasnack.  https://shopee.co.id/duniasnack.id?categoryId=...   \n",
       "4   MIXMAXSHOPP  https://shopee.co.id/mixmaxshopp?categoryId=10...   \n",
       "\n",
       "                                         description  \\\n",
       "0  Ready !!!\\n\\nBerlabel HALAL 🥰🙏🏻\\n\\n\\nWan Mei D...   \n",
       "1  Product: Thailand Serda Instant Noodles Maggie...   \n",
       "2            exp juni 2024\\n\\nharga untuk 1 pcs 13gr   \n",
       "3  BPOM RI ML 022927000900033\\n\\nBERSERTIFIKAT HA...   \n",
       "4  juhi unaco / jiu ng import malaysia\\n\\nEXP OKT...   \n",
       "\n",
       "                                              review  \\\n",
       "0  Rasa:duren dan stobery\\nKualitas:bagus\\n\\nBoci...   \n",
       "1  Kualitas:bagus\\nRasa:enak\\n\\nAkhirnya datang j...   \n",
       "2                                                      \n",
       "3                                   Rasa:asemmmm       \n",
       "4  Rasa:enak\\nKualitas:bagus\\n\\nPengiriman cepat ...   \n",
       "\n",
       "                                                link  \n",
       "0  https://shopee.co.id/Wan-Mei-Durian-Vacuum-Fre...  \n",
       "1  https://shopee.co.id/ready-stok-mie-serda-tom-...  \n",
       "2  https://shopee.co.id/TERMURAH-Snack-Jiso-Tomat...  \n",
       "3  https://shopee.co.id/KERIPIK-BUAH-THAILAND-FRE...  \n",
       "4  https://shopee.co.id/juhi-jiu-ng-si-180g-impor...  "
      ]
     },
     "execution_count": 42,
     "metadata": {},
     "output_type": "execute_result"
    }
   ],
   "source": [
    "df"
   ]
  },
  {
   "cell_type": "markdown",
   "id": "1714e692-5d70-4a7b-8b01-71b269714faa",
   "metadata": {},
   "source": [
    "## Scraping - Merge"
   ]
  },
  {
   "cell_type": "code",
   "execution_count": 43,
   "id": "83805b5d-9fce-44d1-a884-85afd3f9d9af",
   "metadata": {
    "tags": []
   },
   "outputs": [],
   "source": [
    "df_detail = pd.merge(df_all[:5], df, on='link', how='inner')"
   ]
  },
  {
   "cell_type": "code",
   "execution_count": 44,
   "id": "f0c80524-cc45-49bb-9ffd-ce00c36c79d7",
   "metadata": {
    "tags": []
   },
   "outputs": [
    {
     "data": {
      "text/html": [
       "<div>\n",
       "<style scoped>\n",
       "    .dataframe tbody tr th:only-of-type {\n",
       "        vertical-align: middle;\n",
       "    }\n",
       "\n",
       "    .dataframe tbody tr th {\n",
       "        vertical-align: top;\n",
       "    }\n",
       "\n",
       "    .dataframe thead th {\n",
       "        text-align: right;\n",
       "    }\n",
       "</style>\n",
       "<table border=\"1\" class=\"dataframe\">\n",
       "  <thead>\n",
       "    <tr style=\"text-align: right;\">\n",
       "      <th></th>\n",
       "      <th>title</th>\n",
       "      <th>price</th>\n",
       "      <th>sold</th>\n",
       "      <th>location</th>\n",
       "      <th>link</th>\n",
       "      <th>seller</th>\n",
       "      <th>seller_link</th>\n",
       "      <th>description</th>\n",
       "      <th>review</th>\n",
       "    </tr>\n",
       "  </thead>\n",
       "  <tbody>\n",
       "    <tr>\n",
       "      <th>0</th>\n",
       "      <td>Wan Mei Durian Vacuum Freeze Dried 1 pcs/Snack...</td>\n",
       "      <td>19.500</td>\n",
       "      <td>7,2RB Terjual</td>\n",
       "      <td>KOTA JAKARTA BARAT</td>\n",
       "      <td>https://shopee.co.id/Wan-Mei-Durian-Vacuum-Fre...</td>\n",
       "      <td>Shop_by.dira</td>\n",
       "      <td>https://shopee.co.id/shop_by.dira?categoryId=1...</td>\n",
       "      <td>Ready !!!\\n\\nBerlabel HALAL 🥰🙏🏻\\n\\n\\nWan Mei D...</td>\n",
       "      <td>Rasa:duren dan stobery\\nKualitas:bagus\\n\\nBoci...</td>\n",
       "    </tr>\n",
       "    <tr>\n",
       "      <th>1</th>\n",
       "      <td>ready stok mie serda tom klong mie halal thail...</td>\n",
       "      <td>9.800</td>\n",
       "      <td>8 Terjual</td>\n",
       "      <td>KOTA JAKARTA BARAT</td>\n",
       "      <td>https://shopee.co.id/ready-stok-mie-serda-tom-...</td>\n",
       "      <td>yuna_jun89</td>\n",
       "      <td>https://shopee.co.id/yuna_jun89?categoryId=100...</td>\n",
       "      <td>Product: Thailand Serda Instant Noodles Maggie...</td>\n",
       "      <td>Kualitas:bagus\\nRasa:enak\\n\\nAkhirnya datang j...</td>\n",
       "    </tr>\n",
       "    <tr>\n",
       "      <th>2</th>\n",
       "      <td>TERMURAH Snack Jiso Tomat Halal/ Snack Thailan...</td>\n",
       "      <td>10.000</td>\n",
       "      <td>2 Terjual</td>\n",
       "      <td>KOTA BANDUNG</td>\n",
       "      <td>https://shopee.co.id/TERMURAH-Snack-Jiso-Tomat...</td>\n",
       "      <td>Railshopp26</td>\n",
       "      <td>https://shopee.co.id/railshopp26?categoryId=10...</td>\n",
       "      <td>exp juni 2024\\n\\nharga untuk 1 pcs 13gr</td>\n",
       "      <td></td>\n",
       "    </tr>\n",
       "    <tr>\n",
       "      <th>3</th>\n",
       "      <td>KERIPIK BUAH THAILAND / FREEZE DRIED FRUIT SEH...</td>\n",
       "      <td>42.499</td>\n",
       "      <td>76 Terjual</td>\n",
       "      <td>KOTA SURABAYA</td>\n",
       "      <td>https://shopee.co.id/KERIPIK-BUAH-THAILAND-FRE...</td>\n",
       "      <td>duniasnack.</td>\n",
       "      <td>https://shopee.co.id/duniasnack.id?categoryId=...</td>\n",
       "      <td>BPOM RI ML 022927000900033\\n\\nBERSERTIFIKAT HA...</td>\n",
       "      <td>Rasa:asemmmm</td>\n",
       "    </tr>\n",
       "    <tr>\n",
       "      <th>4</th>\n",
       "      <td>juhi / jiu ng si 180g import malaysia</td>\n",
       "      <td>82.000</td>\n",
       "      <td>95 Terjual</td>\n",
       "      <td>KOTA SINGKAWANG</td>\n",
       "      <td>https://shopee.co.id/juhi-jiu-ng-si-180g-impor...</td>\n",
       "      <td>MIXMAXSHOPP</td>\n",
       "      <td>https://shopee.co.id/mixmaxshopp?categoryId=10...</td>\n",
       "      <td>juhi unaco / jiu ng import malaysia\\n\\nEXP OKT...</td>\n",
       "      <td>Rasa:enak\\nKualitas:bagus\\n\\nPengiriman cepat ...</td>\n",
       "    </tr>\n",
       "  </tbody>\n",
       "</table>\n",
       "</div>"
      ],
      "text/plain": [
       "                                               title   price           sold  \\\n",
       "0  Wan Mei Durian Vacuum Freeze Dried 1 pcs/Snack...  19.500  7,2RB Terjual   \n",
       "1  ready stok mie serda tom klong mie halal thail...   9.800      8 Terjual   \n",
       "2  TERMURAH Snack Jiso Tomat Halal/ Snack Thailan...  10.000      2 Terjual   \n",
       "3  KERIPIK BUAH THAILAND / FREEZE DRIED FRUIT SEH...  42.499     76 Terjual   \n",
       "4              juhi / jiu ng si 180g import malaysia  82.000     95 Terjual   \n",
       "\n",
       "             location                                               link  \\\n",
       "0  KOTA JAKARTA BARAT  https://shopee.co.id/Wan-Mei-Durian-Vacuum-Fre...   \n",
       "1  KOTA JAKARTA BARAT  https://shopee.co.id/ready-stok-mie-serda-tom-...   \n",
       "2        KOTA BANDUNG  https://shopee.co.id/TERMURAH-Snack-Jiso-Tomat...   \n",
       "3       KOTA SURABAYA  https://shopee.co.id/KERIPIK-BUAH-THAILAND-FRE...   \n",
       "4     KOTA SINGKAWANG  https://shopee.co.id/juhi-jiu-ng-si-180g-impor...   \n",
       "\n",
       "         seller                                        seller_link  \\\n",
       "0  Shop_by.dira  https://shopee.co.id/shop_by.dira?categoryId=1...   \n",
       "1    yuna_jun89  https://shopee.co.id/yuna_jun89?categoryId=100...   \n",
       "2   Railshopp26  https://shopee.co.id/railshopp26?categoryId=10...   \n",
       "3   duniasnack.  https://shopee.co.id/duniasnack.id?categoryId=...   \n",
       "4   MIXMAXSHOPP  https://shopee.co.id/mixmaxshopp?categoryId=10...   \n",
       "\n",
       "                                         description  \\\n",
       "0  Ready !!!\\n\\nBerlabel HALAL 🥰🙏🏻\\n\\n\\nWan Mei D...   \n",
       "1  Product: Thailand Serda Instant Noodles Maggie...   \n",
       "2            exp juni 2024\\n\\nharga untuk 1 pcs 13gr   \n",
       "3  BPOM RI ML 022927000900033\\n\\nBERSERTIFIKAT HA...   \n",
       "4  juhi unaco / jiu ng import malaysia\\n\\nEXP OKT...   \n",
       "\n",
       "                                              review  \n",
       "0  Rasa:duren dan stobery\\nKualitas:bagus\\n\\nBoci...  \n",
       "1  Kualitas:bagus\\nRasa:enak\\n\\nAkhirnya datang j...  \n",
       "2                                                     \n",
       "3                                   Rasa:asemmmm      \n",
       "4  Rasa:enak\\nKualitas:bagus\\n\\nPengiriman cepat ...  "
      ]
     },
     "execution_count": 44,
     "metadata": {},
     "output_type": "execute_result"
    }
   ],
   "source": [
    "df_detail"
   ]
  },
  {
   "cell_type": "code",
   "execution_count": 55,
   "id": "0e8d7085-3d31-4fb9-86e1-2bbb3eddbf69",
   "metadata": {
    "tags": []
   },
   "outputs": [],
   "source": [
    "data = pd.read_csv('dataset/labeled_dataset.csv')\n",
    "data['label'] = None"
   ]
  },
  {
   "cell_type": "code",
   "execution_count": 56,
   "id": "2ae4ba99-38f1-4417-926c-352e6eb9bf31",
   "metadata": {
    "tags": []
   },
   "outputs": [],
   "source": [
    "data.to_csv('dataset/labeled_dataset.csv', index=False)"
   ]
  },
  {
   "cell_type": "code",
   "execution_count": 48,
   "id": "a7f885b7-d373-4ffb-b24f-7181caa15940",
   "metadata": {
    "tags": []
   },
   "outputs": [
    {
     "data": {
      "text/plain": [
       "dtype('float64')"
      ]
     },
     "execution_count": 48,
     "metadata": {},
     "output_type": "execute_result"
    }
   ],
   "source": [
    "data['label'].dtype"
   ]
  },
  {
   "cell_type": "code",
   "execution_count": 57,
   "id": "bea560a4-b6ab-4a20-b6fb-cef51dc8dbe5",
   "metadata": {
    "tags": []
   },
   "outputs": [],
   "source": [
    "df1 = pd.read_csv('df.csv')\n",
    "df2 = pd.read_csv('df_detail.csv')"
   ]
  },
  {
   "cell_type": "code",
   "execution_count": 58,
   "id": "36d66bb5-bb8c-4e09-8416-d7dcdfec0273",
   "metadata": {
    "tags": []
   },
   "outputs": [
    {
     "ename": "KeyError",
     "evalue": "'link'",
     "output_type": "error",
     "traceback": [
      "\u001b[0;31m---------------------------------------------------------------------------\u001b[0m",
      "\u001b[0;31mKeyError\u001b[0m                                  Traceback (most recent call last)",
      "\u001b[0;32m/var/folders/1k/rvddzkqj4yn9vwymqmntyzv00000gn/T/ipykernel_1307/2568262.py\u001b[0m in \u001b[0;36m?\u001b[0;34m()\u001b[0m\n\u001b[0;32m----> 1\u001b[0;31m \u001b[0mdf_merge\u001b[0m \u001b[0;34m=\u001b[0m \u001b[0mpd\u001b[0m\u001b[0;34m.\u001b[0m\u001b[0mmerge\u001b[0m\u001b[0;34m(\u001b[0m\u001b[0mdf1\u001b[0m\u001b[0;34m[\u001b[0m\u001b[0;34m:\u001b[0m\u001b[0;36m10\u001b[0m\u001b[0;34m]\u001b[0m\u001b[0;34m,\u001b[0m \u001b[0mdf2\u001b[0m\u001b[0;34m,\u001b[0m \u001b[0mon\u001b[0m\u001b[0;34m=\u001b[0m\u001b[0;34m'link'\u001b[0m\u001b[0;34m,\u001b[0m \u001b[0mhow\u001b[0m\u001b[0;34m=\u001b[0m\u001b[0;34m'inner'\u001b[0m\u001b[0;34m)\u001b[0m\u001b[0;34m\u001b[0m\u001b[0;34m\u001b[0m\u001b[0m\n\u001b[0m",
      "\u001b[0;32m~/anaconda3/lib/python3.11/site-packages/pandas/core/reshape/merge.py\u001b[0m in \u001b[0;36m?\u001b[0;34m(left, right, how, on, left_on, right_on, left_index, right_index, sort, suffixes, copy, indicator, validate)\u001b[0m\n\u001b[1;32m    144\u001b[0m     \u001b[0mcopy\u001b[0m\u001b[0;34m:\u001b[0m \u001b[0mbool\u001b[0m \u001b[0;34m|\u001b[0m \u001b[0;32mNone\u001b[0m \u001b[0;34m=\u001b[0m \u001b[0;32mNone\u001b[0m\u001b[0;34m,\u001b[0m\u001b[0;34m\u001b[0m\u001b[0;34m\u001b[0m\u001b[0m\n\u001b[1;32m    145\u001b[0m     \u001b[0mindicator\u001b[0m\u001b[0;34m:\u001b[0m \u001b[0mstr\u001b[0m \u001b[0;34m|\u001b[0m \u001b[0mbool\u001b[0m \u001b[0;34m=\u001b[0m \u001b[0;32mFalse\u001b[0m\u001b[0;34m,\u001b[0m\u001b[0;34m\u001b[0m\u001b[0;34m\u001b[0m\u001b[0m\n\u001b[1;32m    146\u001b[0m     \u001b[0mvalidate\u001b[0m\u001b[0;34m:\u001b[0m \u001b[0mstr\u001b[0m \u001b[0;34m|\u001b[0m \u001b[0;32mNone\u001b[0m \u001b[0;34m=\u001b[0m \u001b[0;32mNone\u001b[0m\u001b[0;34m,\u001b[0m\u001b[0;34m\u001b[0m\u001b[0;34m\u001b[0m\u001b[0m\n\u001b[1;32m    147\u001b[0m ) -> DataFrame:\n\u001b[0;32m--> 148\u001b[0;31m     op = _MergeOperation(\n\u001b[0m\u001b[1;32m    149\u001b[0m         \u001b[0mleft\u001b[0m\u001b[0;34m,\u001b[0m\u001b[0;34m\u001b[0m\u001b[0;34m\u001b[0m\u001b[0m\n\u001b[1;32m    150\u001b[0m         \u001b[0mright\u001b[0m\u001b[0;34m,\u001b[0m\u001b[0;34m\u001b[0m\u001b[0;34m\u001b[0m\u001b[0m\n\u001b[1;32m    151\u001b[0m         \u001b[0mhow\u001b[0m\u001b[0;34m=\u001b[0m\u001b[0mhow\u001b[0m\u001b[0;34m,\u001b[0m\u001b[0;34m\u001b[0m\u001b[0;34m\u001b[0m\u001b[0m\n",
      "\u001b[0;32m~/anaconda3/lib/python3.11/site-packages/pandas/core/reshape/merge.py\u001b[0m in \u001b[0;36m?\u001b[0;34m(self, left, right, how, on, left_on, right_on, axis, left_index, right_index, sort, suffixes, indicator, validate)\u001b[0m\n\u001b[1;32m    733\u001b[0m         (\n\u001b[1;32m    734\u001b[0m             \u001b[0mself\u001b[0m\u001b[0;34m.\u001b[0m\u001b[0mleft_join_keys\u001b[0m\u001b[0;34m,\u001b[0m\u001b[0;34m\u001b[0m\u001b[0;34m\u001b[0m\u001b[0m\n\u001b[1;32m    735\u001b[0m             \u001b[0mself\u001b[0m\u001b[0;34m.\u001b[0m\u001b[0mright_join_keys\u001b[0m\u001b[0;34m,\u001b[0m\u001b[0;34m\u001b[0m\u001b[0;34m\u001b[0m\u001b[0m\n\u001b[1;32m    736\u001b[0m             \u001b[0mself\u001b[0m\u001b[0;34m.\u001b[0m\u001b[0mjoin_names\u001b[0m\u001b[0;34m,\u001b[0m\u001b[0;34m\u001b[0m\u001b[0;34m\u001b[0m\u001b[0m\n\u001b[0;32m--> 737\u001b[0;31m         ) = self._get_merge_keys()\n\u001b[0m\u001b[1;32m    738\u001b[0m \u001b[0;34m\u001b[0m\u001b[0m\n\u001b[1;32m    739\u001b[0m         \u001b[0;31m# validate the merge keys dtypes. We may need to coerce\u001b[0m\u001b[0;34m\u001b[0m\u001b[0;34m\u001b[0m\u001b[0m\n\u001b[1;32m    740\u001b[0m         \u001b[0;31m# to avoid incompatible dtypes\u001b[0m\u001b[0;34m\u001b[0m\u001b[0;34m\u001b[0m\u001b[0m\n",
      "\u001b[0;32m~/anaconda3/lib/python3.11/site-packages/pandas/core/reshape/merge.py\u001b[0m in \u001b[0;36m?\u001b[0;34m(self)\u001b[0m\n\u001b[1;32m   1199\u001b[0m                         \u001b[0;31m# Then we're either Hashable or a wrong-length arraylike,\u001b[0m\u001b[0;34m\u001b[0m\u001b[0;34m\u001b[0m\u001b[0m\n\u001b[1;32m   1200\u001b[0m                         \u001b[0;31m#  the latter of which will raise\u001b[0m\u001b[0;34m\u001b[0m\u001b[0;34m\u001b[0m\u001b[0m\n\u001b[1;32m   1201\u001b[0m                         \u001b[0mrk\u001b[0m \u001b[0;34m=\u001b[0m \u001b[0mcast\u001b[0m\u001b[0;34m(\u001b[0m\u001b[0mHashable\u001b[0m\u001b[0;34m,\u001b[0m \u001b[0mrk\u001b[0m\u001b[0;34m)\u001b[0m\u001b[0;34m\u001b[0m\u001b[0;34m\u001b[0m\u001b[0m\n\u001b[1;32m   1202\u001b[0m                         \u001b[0;32mif\u001b[0m \u001b[0mrk\u001b[0m \u001b[0;32mis\u001b[0m \u001b[0;32mnot\u001b[0m \u001b[0;32mNone\u001b[0m\u001b[0;34m:\u001b[0m\u001b[0;34m\u001b[0m\u001b[0;34m\u001b[0m\u001b[0m\n\u001b[0;32m-> 1203\u001b[0;31m                             \u001b[0mright_keys\u001b[0m\u001b[0;34m.\u001b[0m\u001b[0mappend\u001b[0m\u001b[0;34m(\u001b[0m\u001b[0mright\u001b[0m\u001b[0;34m.\u001b[0m\u001b[0m_get_label_or_level_values\u001b[0m\u001b[0;34m(\u001b[0m\u001b[0mrk\u001b[0m\u001b[0;34m)\u001b[0m\u001b[0;34m)\u001b[0m\u001b[0;34m\u001b[0m\u001b[0;34m\u001b[0m\u001b[0m\n\u001b[0m\u001b[1;32m   1204\u001b[0m                         \u001b[0;32melse\u001b[0m\u001b[0;34m:\u001b[0m\u001b[0;34m\u001b[0m\u001b[0;34m\u001b[0m\u001b[0m\n\u001b[1;32m   1205\u001b[0m                             \u001b[0;31m# work-around for merge_asof(right_index=True)\u001b[0m\u001b[0;34m\u001b[0m\u001b[0;34m\u001b[0m\u001b[0m\n\u001b[1;32m   1206\u001b[0m                             \u001b[0mright_keys\u001b[0m\u001b[0;34m.\u001b[0m\u001b[0mappend\u001b[0m\u001b[0;34m(\u001b[0m\u001b[0mright\u001b[0m\u001b[0;34m.\u001b[0m\u001b[0mindex\u001b[0m\u001b[0;34m)\u001b[0m\u001b[0;34m\u001b[0m\u001b[0;34m\u001b[0m\u001b[0m\n",
      "\u001b[0;32m~/anaconda3/lib/python3.11/site-packages/pandas/core/generic.py\u001b[0m in \u001b[0;36m?\u001b[0;34m(self, key, axis)\u001b[0m\n\u001b[1;32m   1774\u001b[0m             \u001b[0mvalues\u001b[0m \u001b[0;34m=\u001b[0m \u001b[0mself\u001b[0m\u001b[0;34m.\u001b[0m\u001b[0mxs\u001b[0m\u001b[0;34m(\u001b[0m\u001b[0mkey\u001b[0m\u001b[0;34m,\u001b[0m \u001b[0maxis\u001b[0m\u001b[0;34m=\u001b[0m\u001b[0mother_axes\u001b[0m\u001b[0;34m[\u001b[0m\u001b[0;36m0\u001b[0m\u001b[0;34m]\u001b[0m\u001b[0;34m)\u001b[0m\u001b[0;34m.\u001b[0m\u001b[0m_values\u001b[0m\u001b[0;34m\u001b[0m\u001b[0;34m\u001b[0m\u001b[0m\n\u001b[1;32m   1775\u001b[0m         \u001b[0;32melif\u001b[0m \u001b[0mself\u001b[0m\u001b[0;34m.\u001b[0m\u001b[0m_is_level_reference\u001b[0m\u001b[0;34m(\u001b[0m\u001b[0mkey\u001b[0m\u001b[0;34m,\u001b[0m \u001b[0maxis\u001b[0m\u001b[0;34m=\u001b[0m\u001b[0maxis\u001b[0m\u001b[0;34m)\u001b[0m\u001b[0;34m:\u001b[0m\u001b[0;34m\u001b[0m\u001b[0;34m\u001b[0m\u001b[0m\n\u001b[1;32m   1776\u001b[0m             \u001b[0mvalues\u001b[0m \u001b[0;34m=\u001b[0m \u001b[0mself\u001b[0m\u001b[0;34m.\u001b[0m\u001b[0maxes\u001b[0m\u001b[0;34m[\u001b[0m\u001b[0maxis\u001b[0m\u001b[0;34m]\u001b[0m\u001b[0;34m.\u001b[0m\u001b[0mget_level_values\u001b[0m\u001b[0;34m(\u001b[0m\u001b[0mkey\u001b[0m\u001b[0;34m)\u001b[0m\u001b[0;34m.\u001b[0m\u001b[0m_values\u001b[0m\u001b[0;34m\u001b[0m\u001b[0;34m\u001b[0m\u001b[0m\n\u001b[1;32m   1777\u001b[0m         \u001b[0;32melse\u001b[0m\u001b[0;34m:\u001b[0m\u001b[0;34m\u001b[0m\u001b[0;34m\u001b[0m\u001b[0m\n\u001b[0;32m-> 1778\u001b[0;31m             \u001b[0;32mraise\u001b[0m \u001b[0mKeyError\u001b[0m\u001b[0;34m(\u001b[0m\u001b[0mkey\u001b[0m\u001b[0;34m)\u001b[0m\u001b[0;34m\u001b[0m\u001b[0;34m\u001b[0m\u001b[0m\n\u001b[0m\u001b[1;32m   1779\u001b[0m \u001b[0;34m\u001b[0m\u001b[0m\n\u001b[1;32m   1780\u001b[0m         \u001b[0;31m# Check for duplicates\u001b[0m\u001b[0;34m\u001b[0m\u001b[0;34m\u001b[0m\u001b[0m\n\u001b[1;32m   1781\u001b[0m         \u001b[0;32mif\u001b[0m \u001b[0mvalues\u001b[0m\u001b[0;34m.\u001b[0m\u001b[0mndim\u001b[0m \u001b[0;34m>\u001b[0m \u001b[0;36m1\u001b[0m\u001b[0;34m:\u001b[0m\u001b[0;34m\u001b[0m\u001b[0;34m\u001b[0m\u001b[0m\n",
      "\u001b[0;31mKeyError\u001b[0m: 'link'"
     ]
    }
   ],
   "source": [
    "df_merge = pd.merge(df1[:10], df2, on='link', how='inner')"
   ]
  },
  {
   "cell_type": "code",
   "execution_count": null,
   "id": "5cc61e5f-97b2-4b5a-8143-b3b217fdce07",
   "metadata": {},
   "outputs": [],
   "source": []
  }
 ],
 "metadata": {
  "kernelspec": {
   "display_name": "Python 3 (ipykernel)",
   "language": "python",
   "name": "python3"
  },
  "language_info": {
   "codemirror_mode": {
    "name": "ipython",
    "version": 3
   },
   "file_extension": ".py",
   "mimetype": "text/x-python",
   "name": "python",
   "nbconvert_exporter": "python",
   "pygments_lexer": "ipython3",
   "version": "3.11.5"
  }
 },
 "nbformat": 4,
 "nbformat_minor": 5
}
